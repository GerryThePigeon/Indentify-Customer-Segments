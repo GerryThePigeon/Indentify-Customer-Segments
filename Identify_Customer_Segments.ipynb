{
 "cells": [
  {
   "cell_type": "markdown",
   "metadata": {},
   "source": [
    "### Prerequsite - Upgrade Scikit Learn\n",
    "The current workspace has scikit-learn v0.19.1 installed. However, you can upgrade scikit-learn to 0.24.x. and use this [OneHotEncoder](https://scikit-learn.org/0.21/modules/generated/sklearn.preprocessing.OneHotEncoder.html) library. \n"
   ]
  },
  {
   "cell_type": "code",
   "execution_count": 1,
   "metadata": {},
   "outputs": [
    {
     "name": "stdout",
     "output_type": "stream",
     "text": [
      "The scikit-learn version is 0.19.1.\n"
     ]
    }
   ],
   "source": [
    "import sklearn\n",
    "print('The scikit-learn version is {}.'.format(sklearn.__version__))"
   ]
  },
  {
   "cell_type": "code",
   "execution_count": 2,
   "metadata": {},
   "outputs": [],
   "source": [
    "import os\n",
    "os.environ['PATH'] = f\"{os.environ['PATH']}:/root/.local/bin\""
   ]
  },
  {
   "cell_type": "raw",
   "metadata": {},
   "source": [
    "Restart the Kernel. "
   ]
  },
  {
   "cell_type": "markdown",
   "metadata": {},
   "source": [
    "# Project: Identify Customer Segments\n",
    "\n",
    "In this project, you will apply unsupervised learning techniques to identify segments of the population that form the core customer base for a mail-order sales company in Germany. These segments can then be used to direct marketing campaigns towards audiences that will have the highest expected rate of returns. The data that you will use has been provided by our partners at Bertelsmann Arvato Analytics, and represents a real-life data science task.\n",
    "\n",
    "This notebook will help you complete this task by providing a framework within which you will perform your analysis steps. In each step of the project, you will see some text describing the subtask that you will perform, followed by one or more code cells for you to complete your work. **Feel free to add additional code and markdown cells as you go along so that you can explore everything in precise chunks.** The code cells provided in the base template will outline only the major tasks, and will usually not be enough to cover all of the minor tasks that comprise it.\n",
    "\n",
    "It should be noted that while there will be precise guidelines on how you should handle certain tasks in the project, there will also be places where an exact specification is not provided. **There will be times in the project where you will need to make and justify your own decisions on how to treat the data.** These are places where there may not be only one way to handle the data. In real-life tasks, there may be many valid ways to approach an analysis task. One of the most important things you can do is clearly document your approach so that other scientists can understand the decisions you've made.\n",
    "\n",
    "At the end of most sections, there will be a Markdown cell labeled **Discussion**. In these cells, you will report your findings for the completed section, as well as document the decisions that you made in your approach to each subtask. **Your project will be evaluated not just on the code used to complete the tasks outlined, but also your communication about your observations and conclusions at each stage.**"
   ]
  },
  {
   "cell_type": "code",
   "execution_count": 1,
   "metadata": {},
   "outputs": [],
   "source": [
    "# import libraries here; add more as necessary\n",
    "import numpy as np\n",
    "import pandas as pd\n",
    "import matplotlib.pyplot as plt\n",
    "import seaborn as sns\n",
    "\n",
    "from sklearn.preprocessing import StandardScaler \n",
    "from sklearn.decomposition import PCA\n",
    "from sklearn.preprocessing import Imputer\n",
    "from sklearn.cluster import KMeans\n",
    "# magic word for producing visualizations in notebook\n",
    "%matplotlib inline\n",
    "\n",
    "'''\n",
    "Import note: The classroom currently uses sklearn version 0.19.\n",
    "If you need to use an imputer, it is available in sklearn.preprocessing.Imputer,\n",
    "instead of sklearn.impute as in newer versions of sklearn.\n",
    "'''\n",
    "pd.options.display.max_rows = None\n",
    "pd.options.display.max_columns = None\n"
   ]
  },
  {
   "cell_type": "markdown",
   "metadata": {},
   "source": [
    "### Step 0: Load the Data\n",
    "\n",
    "There are four files associated with this project (not including this one):\n",
    "\n",
    "- `Udacity_AZDIAS_Subset.csv`: Demographics data for the general population of Germany; 891211 persons (rows) x 85 features (columns).\n",
    "- `Udacity_CUSTOMERS_Subset.csv`: Demographics data for customers of a mail-order company; 191652 persons (rows) x 85 features (columns).\n",
    "- `Data_Dictionary.md`: Detailed information file about the features in the provided datasets.\n",
    "- `AZDIAS_Feature_Summary.csv`: Summary of feature attributes for demographics data; 85 features (rows) x 4 columns\n",
    "\n",
    "Each row of the demographics files represents a single person, but also includes information outside of individuals, including information about their household, building, and neighborhood. You will use this information to cluster the general population into groups with similar demographic properties. Then, you will see how the people in the customers dataset fit into those created clusters. The hope here is that certain clusters are over-represented in the customers data, as compared to the general population; those over-represented clusters will be assumed to be part of the core userbase. This information can then be used for further applications, such as targeting for a marketing campaign.\n",
    "\n",
    "To start off with, load in the demographics data for the general population into a pandas DataFrame, and do the same for the feature attributes summary. Note for all of the `.csv` data files in this project: they're semicolon (`;`) delimited, so you'll need an additional argument in your [`read_csv()`](https://pandas.pydata.org/pandas-docs/stable/generated/pandas.read_csv.html) call to read in the data properly. Also, considering the size of the main dataset, it may take some time for it to load completely.\n",
    "\n",
    "Once the dataset is loaded, it's recommended that you take a little bit of time just browsing the general structure of the dataset and feature summary file. You'll be getting deep into the innards of the cleaning in the first major step of the project, so gaining some general familiarity can help you get your bearings."
   ]
  },
  {
   "cell_type": "code",
   "execution_count": 2,
   "metadata": {},
   "outputs": [],
   "source": [
    "# Load in the general demographics data.\n",
    "azdias = pd.read_csv('Udacity_AZDIAS_Subset.csv', delimiter = ';')\n",
    "# Load in the feature summary file.\n",
    "feature = pd.read_csv('AZDIAS_Feature_Summary.csv', delimiter = ';')"
   ]
  },
  {
   "cell_type": "code",
   "execution_count": 3,
   "metadata": {
    "scrolled": true
   },
   "outputs": [],
   "source": [
    "# Check the structure of the data after it's loaded (e.g. print the number of\n",
    "# rows and columns, print the first few rows).\n",
    "\n",
    "#azdias.head()"
   ]
  },
  {
   "cell_type": "code",
   "execution_count": 4,
   "metadata": {},
   "outputs": [],
   "source": [
    "#azdias.shape"
   ]
  },
  {
   "cell_type": "code",
   "execution_count": 5,
   "metadata": {},
   "outputs": [],
   "source": [
    "#feature.head()"
   ]
  },
  {
   "cell_type": "code",
   "execution_count": 6,
   "metadata": {},
   "outputs": [],
   "source": [
    "#feature.shape"
   ]
  },
  {
   "cell_type": "markdown",
   "metadata": {},
   "source": [
    "> **Tip**: Add additional cells to keep everything in reasonably-sized chunks! Keyboard shortcut `esc --> a` (press escape to enter command mode, then press the 'A' key) adds a new cell before the active cell, and `esc --> b` adds a new cell after the active cell. If you need to convert an active cell to a markdown cell, use `esc --> m` and to convert to a code cell, use `esc --> y`. \n",
    "\n",
    "## Step 1: Preprocessing\n",
    "\n",
    "### Step 1.1: Assess Missing Data\n",
    "\n",
    "The feature summary file contains a summary of properties for each demographics data column. You will use this file to help you make cleaning decisions during this stage of the project. First of all, you should assess the demographics data in terms of missing data. Pay attention to the following points as you perform your analysis, and take notes on what you observe. Make sure that you fill in the **Discussion** cell with your findings and decisions at the end of each step that has one!\n",
    "\n",
    "#### Step 1.1.1: Convert Missing Value Codes to NaNs\n",
    "The fourth column of the feature attributes summary (loaded in above as `feat_info`) documents the codes from the data dictionary that indicate missing or unknown data. While the file encodes this as a list (e.g. `[-1,0]`), this will get read in as a string object. You'll need to do a little bit of parsing to make use of it to identify and clean the data. Convert data that matches a 'missing' or 'unknown' value code into a numpy NaN value. You might want to see how much data takes on a 'missing' or 'unknown' code, and how much data is naturally missing, as a point of interest.\n",
    "\n",
    "**As one more reminder, you are encouraged to add additional cells to break up your analysis into manageable chunks.**"
   ]
  },
  {
   "cell_type": "code",
   "execution_count": 7,
   "metadata": {},
   "outputs": [],
   "source": [
    "# Identify missing or unknown data values and convert them to NaNs.\n",
    "\n",
    "for i in range(len(feature)):\n",
    "    A = feature['missing_or_unknown'][i]\n",
    "    A = A.replace('[','')\n",
    "    A = A.replace(']', '')\n",
    "    A = A.split(sep = ',')\n",
    "   #print(A)\n",
    "\n",
    "    if A != ['']:\n",
    "       A = [int(num) if (num != 'XX' and num != 'X') else num for num in A]\n",
    "       azdias = azdias.replace({feature.iloc[i]['attribute']: A}, np.nan)"
   ]
  },
  {
   "cell_type": "code",
   "execution_count": 8,
   "metadata": {},
   "outputs": [],
   "source": [
    "#azdias.head()"
   ]
  },
  {
   "cell_type": "code",
   "execution_count": 9,
   "metadata": {},
   "outputs": [
    {
     "data": {
      "text/plain": [
       "(891221, 85)"
      ]
     },
     "execution_count": 9,
     "metadata": {},
     "output_type": "execute_result"
    }
   ],
   "source": [
    "azdias.shape"
   ]
  },
  {
   "cell_type": "markdown",
   "metadata": {},
   "source": [
    "#### Step 1.1.2: Assess Missing Data in Each Column\n",
    "\n",
    "How much missing data is present in each column? There are a few columns that are outliers in terms of the proportion of values that are missing. You will want to use matplotlib's [`hist()`](https://matplotlib.org/api/_as_gen/matplotlib.pyplot.hist.html) function to visualize the distribution of missing value counts to find these columns. Identify and document these columns. While some of these columns might have justifications for keeping or re-encoding the data, for this project you should just remove them from the dataframe. (Feel free to make remarks about these outlier columns in the discussion, however!)\n",
    "\n",
    "For the remaining features, are there any patterns in which columns have, or share, missing data?"
   ]
  },
  {
   "cell_type": "code",
   "execution_count": 10,
   "metadata": {},
   "outputs": [],
   "source": [
    "# Perform an assessment of how much missing data there is in each column of the\n",
    "# dataset.\n",
    "\n",
    "missing_amount = azdias.isnull().sum()\n",
    "#missing_amount.head()"
   ]
  },
  {
   "cell_type": "code",
   "execution_count": 11,
   "metadata": {},
   "outputs": [
    {
     "data": {
      "text/plain": [
       "8373929"
      ]
     },
     "execution_count": 11,
     "metadata": {},
     "output_type": "execute_result"
    }
   ],
   "source": [
    "missing_amount_num = missing_amount.sum()\n",
    "missing_amount_num"
   ]
  },
  {
   "cell_type": "code",
   "execution_count": 12,
   "metadata": {},
   "outputs": [
    {
     "data": {
      "image/png": "[encoded data removed]",
      "text/plain": [
       "<matplotlib.figure.Figure at 0x79dbcd5e6e80>"
      ]
     },
     "metadata": {
      "needs_background": "light"
     },
     "output_type": "display_data"
    }
   ],
   "source": [
    "# Investigate patterns in the amount of missing data in each column.\n",
    "plt.hist(missing_amount, bins = 10)\n",
    "plt.xlabel('Number of Missing Items')\n",
    "plt.ylabel('Number of Columns')\n",
    "plt.title('Azdias - Missing Per Column');"
   ]
  },
  {
   "cell_type": "code",
   "execution_count": 13,
   "metadata": {},
   "outputs": [
    {
     "data": {
      "text/plain": [
       "AGER_TYP                76.955435\n",
       "ALTERSKATEGORIE_GROB     0.323264\n",
       "ANREDE_KZ                0.000000\n",
       "CJT_GESAMTTYP            0.544646\n",
       "FINANZ_MINIMALIST        0.000000\n",
       "dtype: float64"
      ]
     },
     "execution_count": 13,
     "metadata": {},
     "output_type": "execute_result"
    }
   ],
   "source": [
    "# Remove the outlier columns from the dataset. (You'll perform other data\n",
    "# engineering tasks such as re-encoding and imputation later.)\n",
    "\n",
    "missing_per_col = missing_amount / len(azdias) * 100\n",
    "missing_per_col.head()"
   ]
  },
  {
   "cell_type": "code",
   "execution_count": 14,
   "metadata": {},
   "outputs": [
    {
     "data": {
      "text/plain": [
       "Index(['AGER_TYP', 'GEBURTSJAHR', 'TITEL_KZ', 'ALTER_HH', 'KK_KUNDENTYP',\n",
       "       'W_KEIT_KIND_HH', 'KBA05_BAUMAX', 'KKK', 'REGIOTYP'],\n",
       "      dtype='object')"
      ]
     },
     "execution_count": 14,
     "metadata": {},
     "output_type": "execute_result"
    }
   ],
   "source": [
    "over_15_missing = missing_per_col[missing_per_col > 15]\n",
    "\n",
    " \n",
    "over_15_missing.index"
   ]
  },
  {
   "cell_type": "code",
   "execution_count": 15,
   "metadata": {},
   "outputs": [],
   "source": [
    "azdias = azdias.drop(over_15_missing.index, axis = 1)"
   ]
  },
  {
   "cell_type": "code",
   "execution_count": 16,
   "metadata": {},
   "outputs": [
    {
     "data": {
      "text/plain": [
       "(891221, 76)"
      ]
     },
     "execution_count": 16,
     "metadata": {},
     "output_type": "execute_result"
    }
   ],
   "source": [
    "azdias.shape"
   ]
  },
  {
   "cell_type": "markdown",
   "metadata": {},
   "source": [
    "#### Discussion 1.1.2: Assess Missing Data in Each Column\n",
    "\n",
    "When culling through the data the columns that did not have any missing data were ANREDE_KZ, FINANZ, SEMIO, ALTER_HH, and GREEN_AVANTGARDE. For FINANz and SEMIO each category in these sections did not have missing data. ANREDE_KZ represented gender, FINANZ were financial groupings, SEMIO are personality traits, ALTER_HH represented the birthdate of the head of the household, and GREEN_AVANTGARDE represented if user participated in enviroment activies when young. \n",
    "\n",
    "While on the other end AGER_TYP, GEBURTSJAHRTITEL_KZM, ALTER_HH, KK_KUNDENTYP, W_KEIT_KIND_HH, KBA05_BAUMAX, KKK, & REGIOTYP each column listed here has over 15% of data missing from their columns. \n",
    "\n",
    "After dropping the columns with 15% or more missing data our shape of the dataset goes from (891221, 85) to (891221, 76). "
   ]
  },
  {
   "cell_type": "markdown",
   "metadata": {},
   "source": [
    "#### Step 1.1.3: Assess Missing Data in Each Row\n",
    "\n",
    "Now, you'll perform a similar assessment for the rows of the dataset. How much data is missing in each row? As with the columns, you should see some groups of points that have a very different numbers of missing values. Divide the data into two subsets: one for data points that are above some threshold for missing values, and a second subset for points below that threshold.\n",
    "\n",
    "In order to know what to do with the outlier rows, we should see if the distribution of data values on columns that are not missing data (or are missing very little data) are similar or different between the two groups. Select at least five of these columns and compare the distribution of values.\n",
    "- You can use seaborn's [`countplot()`](https://seaborn.pydata.org/generated/seaborn.countplot.html) function to create a bar chart of code frequencies and matplotlib's [`subplot()`](https://matplotlib.org/api/_as_gen/matplotlib.pyplot.subplot.html) function to put bar charts for the two subplots side by side.\n",
    "- To reduce repeated code, you might want to write a function that can perform this comparison, taking as one of its arguments a column to be compared.\n",
    "\n",
    "Depending on what you observe in your comparison, this will have implications on how you approach your conclusions later in the analysis. If the distributions of non-missing features look similar between the data with many missing values and the data with few or no missing values, then we could argue that simply dropping those points from the analysis won't present a major issue. On the other hand, if the data with many missing values looks very different from the data with few or no missing values, then we should make a note on those data as special. We'll revisit these data later on. **Either way, you should continue your analysis for now using just the subset of the data with few or no missing values.**"
   ]
  },
  {
   "cell_type": "code",
   "execution_count": 17,
   "metadata": {},
   "outputs": [],
   "source": [
    "# How much data is missing in each row of the dataset?\n",
    "\n",
    "amount_missing = azdias.isnull().sum(axis = 1)\n",
    "#amount_missing.head()"
   ]
  },
  {
   "cell_type": "code",
   "execution_count": 18,
   "metadata": {},
   "outputs": [
    {
     "data": {
      "image/png": "[encoded data removed]",
      "text/plain": [
       "<matplotlib.figure.Figure at 0x79dc04e44c50>"
      ]
     },
     "metadata": {
      "needs_background": "light"
     },
     "output_type": "display_data"
    }
   ],
   "source": [
    "plt.hist(amount_missing, bins = 10)\n",
    "plt.xlabel('Amount of Missing Values')\n",
    "plt.ylabel('Amount of Rows')\n",
    "plt.title('Missing Values per Row in Dataset');"
   ]
  },
  {
   "cell_type": "code",
   "execution_count": 19,
   "metadata": {},
   "outputs": [],
   "source": [
    "# Write code to divide the data into two subsets based on the number of missing\n",
    "# values in each row.\n",
    "\n",
    "more_than_10 = azdias[amount_missing >= 10]\n",
    "less_than_10 = azdias[amount_missing < 10]"
   ]
  },
  {
   "cell_type": "code",
   "execution_count": 20,
   "metadata": {},
   "outputs": [
    {
     "data": {
      "text/plain": [
       "(114907, 76)"
      ]
     },
     "execution_count": 20,
     "metadata": {},
     "output_type": "execute_result"
    }
   ],
   "source": [
    "more_than_10.shape"
   ]
  },
  {
   "cell_type": "code",
   "execution_count": 21,
   "metadata": {},
   "outputs": [
    {
     "data": {
      "text/plain": [
       "(776314, 76)"
      ]
     },
     "execution_count": 21,
     "metadata": {},
     "output_type": "execute_result"
    }
   ],
   "source": [
    "less_than_10.shape"
   ]
  },
  {
   "cell_type": "code",
   "execution_count": 22,
   "metadata": {},
   "outputs": [
    {
     "data": {
      "text/plain": [
       "Index(['ANREDE_KZ', 'FINANZ_MINIMALIST', 'FINANZ_SPARER', 'FINANZ_VORSORGER',\n",
       "       'FINANZ_ANLEGER', 'FINANZ_UNAUFFAELLIGER', 'FINANZ_HAUSBAUER',\n",
       "       'FINANZTYP', 'GREEN_AVANTGARDE', 'SEMIO_SOZ', 'SEMIO_FAM', 'SEMIO_REL',\n",
       "       'SEMIO_MAT', 'SEMIO_VERT', 'SEMIO_LUST', 'SEMIO_ERL', 'SEMIO_KULT',\n",
       "       'SEMIO_RAT', 'SEMIO_KRIT', 'SEMIO_DOM', 'SEMIO_KAEM', 'SEMIO_PFLICHT',\n",
       "       'SEMIO_TRADV', 'ZABEOTYP'],\n",
       "      dtype='object')"
      ]
     },
     "execution_count": 22,
     "metadata": {},
     "output_type": "execute_result"
    }
   ],
   "source": [
    "comparison = missing_per_col[missing_per_col == 0].index\n",
    "comparison"
   ]
  },
  {
   "cell_type": "code",
   "execution_count": 23,
   "metadata": {},
   "outputs": [
    {
     "data": {
      "text/plain": [
       "Index(['FINANZ_ANLEGER', 'FINANZ_UNAUFFAELLIGER', 'FINANZ_HAUSBAUER',\n",
       "       'FINANZTYP', 'GREEN_AVANTGARDE', 'SEMIO_SOZ'],\n",
       "      dtype='object')"
      ]
     },
     "execution_count": 23,
     "metadata": {},
     "output_type": "execute_result"
    }
   ],
   "source": [
    "comp_zero = comparison[4:10]\n",
    "comp_zero"
   ]
  },
  {
   "cell_type": "code",
   "execution_count": 24,
   "metadata": {},
   "outputs": [
    {
     "data": {
      "image/png": "[encoded data removed]",
      "text/plain": [
       "<matplotlib.figure.Figure at 0x79dc043735c0>"
      ]
     },
     "metadata": {
      "needs_background": "light"
     },
     "output_type": "display_data"
    }
   ],
   "source": [
    "# Compare the distribution of values for at least five columns where there are\n",
    "# no or few missing values, between the two subsets.\n",
    "\n",
    "figure, axs = plt.subplots(nrows = len(comp_zero), ncols = 2, figsize = (18,75))\n",
    "                           \n",
    "for i in range(len(comp_zero)):\n",
    "    sns.countplot(less_than_10[comp_zero[i]], ax = axs[i][0])\n",
    "    sns.countplot(more_than_10[comp_zero[i]], ax = axs[i][1])\n",
    "    axs[i][0].set_title(\"Less Than 10 Values Missing\")\n",
    "    axs[i][1].set_title(\"More Than 10 Values Missing\")\n",
    "\n",
    "plt.tight_layout()"
   ]
  },
  {
   "cell_type": "markdown",
   "metadata": {},
   "source": [
    "#### Discussion 1.1.3: Assess Missing Data in Each Row\n",
    "\n",
    "With such a narrow window of allowed missing values we can see that if there are outliers they are very noticeable. For example SEMIO_SOZ for the 2nd column in \"More Than 10 Values Missing\" has just over 80,000 missing values summed up. "
   ]
  },
  {
   "cell_type": "markdown",
   "metadata": {},
   "source": [
    "### Step 1.2: Select and Re-Encode Features\n",
    "\n",
    "Checking for missing data isn't the only way in which you can prepare a dataset for analysis. Since the unsupervised learning techniques to be used will only work on data that is encoded numerically, you need to make a few encoding changes or additional assumptions to be able to make progress. In addition, while almost all of the values in the dataset are encoded using numbers, not all of them represent numeric values. Check the third column of the feature summary (`feat_info`) for a summary of types of measurement.\n",
    "- For numeric and interval data, these features can be kept without changes.\n",
    "- Most of the variables in the dataset are ordinal in nature. While ordinal values may technically be non-linear in spacing, make the simplifying assumption that the ordinal variables can be treated as being interval in nature (that is, kept without any changes).\n",
    "- Special handling may be necessary for the remaining two variable types: categorical, and 'mixed'.\n",
    "\n",
    "In the first two parts of this sub-step, you will perform an investigation of the categorical and mixed-type features and make a decision on each of them, whether you will keep, drop, or re-encode each. Then, in the last part, you will create a new data frame with only the selected and engineered columns.\n",
    "\n",
    "Data wrangling is often the trickiest part of the data analysis process, and there's a lot of it to be done here. But stick with it: once you're done with this step, you'll be ready to get to the machine learning parts of the project!"
   ]
  },
  {
   "cell_type": "code",
   "execution_count": 25,
   "metadata": {},
   "outputs": [],
   "source": [
    "# How many features are there of each data type?\n",
    "\n",
    "f = list(less_than_10)\n",
    "f = feature[feature['attribute'].isin(f)]"
   ]
  },
  {
   "cell_type": "code",
   "execution_count": 26,
   "metadata": {},
   "outputs": [
    {
     "data": {
      "text/plain": [
       "ordinal        46\n",
       "categorical    18\n",
       "mixed           6\n",
       "numeric         6\n",
       "Name: type, dtype: int64"
      ]
     },
     "execution_count": 26,
     "metadata": {},
     "output_type": "execute_result"
    }
   ],
   "source": [
    "f['type'].value_counts()"
   ]
  },
  {
   "cell_type": "markdown",
   "metadata": {},
   "source": [
    "#### Step 1.2.1: Re-Encode Categorical Features\n",
    "\n",
    "For categorical data, you would ordinarily need to encode the levels as dummy variables. Depending on the number of categories, perform one of the following:\n",
    "- For binary (two-level) categoricals that take numeric values, you can keep them without needing to do anything.\n",
    "- There is one binary variable that takes on non-numeric values. For this one, you need to re-encode the values as numbers or create a dummy variable.\n",
    "- For multi-level categoricals (three or more values), you can choose to encode the values using multiple dummy variables (e.g. via [OneHotEncoder](http://scikit-learn.org/stable/modules/generated/sklearn.preprocessing.OneHotEncoder.html)), or (to keep things straightforward) just drop them from the analysis. As always, document your choices in the Discussion section."
   ]
  },
  {
   "cell_type": "code",
   "execution_count": 27,
   "metadata": {},
   "outputs": [],
   "source": [
    "# Assess categorical variables: which are binary, which are multi-level, and\n",
    "# which one needs to be re-encoded?\n",
    "\n",
    "binary = []\n",
    "multi = []"
   ]
  },
  {
   "cell_type": "code",
   "execution_count": 28,
   "metadata": {},
   "outputs": [],
   "source": [
    "# Re-encode categorical variable(s) to be kept in the analysis.\n",
    "\n",
    "categorical_only = f[f['type'] == 'categorical'].attribute\n",
    "#categorical_only"
   ]
  },
  {
   "cell_type": "code",
   "execution_count": 29,
   "metadata": {},
   "outputs": [],
   "source": [
    "for i in categorical_only:\n",
    "    if (len(less_than_10[i].unique()) == 2):\n",
    "        binary.append(i)\n",
    "    else:\n",
    "        multi.append(i)\n"
   ]
  },
  {
   "cell_type": "code",
   "execution_count": 30,
   "metadata": {},
   "outputs": [
    {
     "data": {
      "text/plain": [
       "['ANREDE_KZ', 'GREEN_AVANTGARDE', 'SOHO_KZ', 'OST_WEST_KZ']"
      ]
     },
     "execution_count": 30,
     "metadata": {},
     "output_type": "execute_result"
    }
   ],
   "source": [
    "binary"
   ]
  },
  {
   "cell_type": "code",
   "execution_count": 31,
   "metadata": {},
   "outputs": [
    {
     "data": {
      "text/plain": [
       "['CJT_GESAMTTYP',\n",
       " 'FINANZTYP',\n",
       " 'GFK_URLAUBERTYP',\n",
       " 'LP_FAMILIE_FEIN',\n",
       " 'LP_FAMILIE_GROB',\n",
       " 'LP_STATUS_FEIN',\n",
       " 'LP_STATUS_GROB',\n",
       " 'NATIONALITAET_KZ',\n",
       " 'SHOPPER_TYP',\n",
       " 'VERS_TYP',\n",
       " 'ZABEOTYP',\n",
       " 'GEBAEUDETYP',\n",
       " 'CAMEO_DEUG_2015',\n",
       " 'CAMEO_DEU_2015']"
      ]
     },
     "execution_count": 31,
     "metadata": {},
     "output_type": "execute_result"
    }
   ],
   "source": [
    "multi"
   ]
  },
  {
   "cell_type": "code",
   "execution_count": 32,
   "metadata": {},
   "outputs": [
    {
     "data": {
      "text/plain": [
       "(891221, 62)"
      ]
     },
     "execution_count": 32,
     "metadata": {},
     "output_type": "execute_result"
    }
   ],
   "source": [
    "azdias = azdias.drop(multi, axis = 1)\n",
    "azdias.shape"
   ]
  },
  {
   "cell_type": "code",
   "execution_count": 33,
   "metadata": {},
   "outputs": [
    {
     "name": "stdout",
     "output_type": "stream",
     "text": [
      "ANREDE_KZ [2 1]\n",
      "GREEN_AVANTGARDE [0 1]\n",
      "SOHO_KZ [ 1.  0.]\n",
      "OST_WEST_KZ ['W' 'O']\n"
     ]
    }
   ],
   "source": [
    "for i in binary:\n",
    "    print(i, less_than_10[i].unique())"
   ]
  },
  {
   "cell_type": "code",
   "execution_count": 34,
   "metadata": {},
   "outputs": [],
   "source": [
    "azdias['ANREDE_KZ'].replace({2:0, 1:1}, inplace = True)"
   ]
  },
  {
   "cell_type": "code",
   "execution_count": 35,
   "metadata": {},
   "outputs": [],
   "source": [
    "azdias['SOHO_KZ'].replace({1.:0, 0.:1}, inplace = True)"
   ]
  },
  {
   "cell_type": "code",
   "execution_count": 36,
   "metadata": {},
   "outputs": [],
   "source": [
    "azdias['OST_WEST_KZ'].replace({'W': 0, 'O': 1}, inplace = True)"
   ]
  },
  {
   "cell_type": "code",
   "execution_count": 37,
   "metadata": {},
   "outputs": [],
   "source": [
    "#azdias.head()"
   ]
  },
  {
   "cell_type": "markdown",
   "metadata": {},
   "source": [
    "#### Discussion 1.2.1: Re-Encode Categorical Features\n",
    "\n",
    "I removed any column that contained more than 2 or binary values, the shape of azdias went from 891221,76 rows to 891221,62 rows. Additionally, there were a few unique values in the binary columns that needed changing.\n",
    "\n",
    "ANREDE_KZ [2 1]\n",
    "GREEN_AVANTGARDE [0 1]\n",
    "SOHO_KZ [ 1.  0.]\n",
    "OST_WEST_KZ ['W' 'O']\n",
    "\n",
    "Other than GREEN_AVANTGARDE each column had values I wanted to re-encode to match GREEN_AVANTGARDE so I set each column from their values to 0s and 1s. "
   ]
  },
  {
   "cell_type": "markdown",
   "metadata": {},
   "source": [
    "#### Step 1.2.2: Engineer Mixed-Type Features\n",
    "\n",
    "There are a handful of features that are marked as \"mixed\" in the feature summary that require special treatment in order to be included in the analysis. There are two in particular that deserve attention; the handling of the rest are up to your own choices:\n",
    "- \"PRAEGENDE_JUGENDJAHRE\" combines information on three dimensions: generation by decade, movement (mainstream vs. avantgarde), and nation (east vs. west). While there aren't enough levels to disentangle east from west, you should create two new variables to capture the other two dimensions: an interval-type variable for decade, and a binary variable for movement.\n",
    "- \"CAMEO_INTL_2015\" combines information on two axes: wealth and life stage. Break up the two-digit codes by their 'tens'-place and 'ones'-place digits into two new ordinal variables (which, for the purposes of this project, is equivalent to just treating them as their raw numeric values).\n",
    "- If you decide to keep or engineer new features around the other mixed-type features, make sure you note your steps in the Discussion section.\n",
    "\n",
    "Be sure to check `Data_Dictionary.md` for the details needed to finish these tasks."
   ]
  },
  {
   "cell_type": "code",
   "execution_count": 38,
   "metadata": {},
   "outputs": [],
   "source": [
    "# Investigate \"PRAEGENDE_JUGENDJAHRE\" and engineer two new variables.\n",
    "\n",
    "#azdias['PRAEGENDE_JUGENDJAHRE'].head()"
   ]
  },
  {
   "cell_type": "code",
   "execution_count": 39,
   "metadata": {},
   "outputs": [],
   "source": [
    "azdias['P_DECADE'] = azdias['PRAEGENDE_JUGENDJAHRE']\n",
    "azdias['P_MOVEMENT'] = azdias['PRAEGENDE_JUGENDJAHRE'] "
   ]
  },
  {
   "cell_type": "code",
   "execution_count": 40,
   "metadata": {
    "scrolled": true
   },
   "outputs": [],
   "source": [
    "#azdias.head()"
   ]
  },
  {
   "cell_type": "code",
   "execution_count": 41,
   "metadata": {},
   "outputs": [],
   "source": [
    "p_decade = {1:1, 2:2, 3:3, 4:4, 5:5, 6:1, 7:2, 8:3, 9:4, 10:5, 11:1, 12:2, 13:3, 14:4, 15:5}"
   ]
  },
  {
   "cell_type": "code",
   "execution_count": 42,
   "metadata": {},
   "outputs": [],
   "source": [
    "p_movement = {1:0, 2:0, 3:1, 4:1, 5:0, 6:1, 7:0, 8:0, 9:1, 10:1, 11:0, 12:0, 13:1, 14:1, 15:0}"
   ]
  },
  {
   "cell_type": "code",
   "execution_count": 43,
   "metadata": {},
   "outputs": [],
   "source": [
    "#new_az['P_DECADE'].replace(p_decade, inplace = True)\n",
    "#new_az['P_DECADE']"
   ]
  },
  {
   "cell_type": "code",
   "execution_count": 44,
   "metadata": {},
   "outputs": [],
   "source": [
    "#new_az['P_MOVEMENT'].replace(p_movement, inplace = True)\n",
    "#new_az['P_MOVEMENT']"
   ]
  },
  {
   "cell_type": "code",
   "execution_count": 45,
   "metadata": {},
   "outputs": [],
   "source": [
    "# Investigate \"CAMEO_INTL_2015\" and engineer two new variables.\n",
    "\n",
    "#azdias['CAMEO_INTL_2015'].head()"
   ]
  },
  {
   "cell_type": "code",
   "execution_count": 46,
   "metadata": {},
   "outputs": [],
   "source": [
    "azdias['C_WEALTH'] = azdias['CAMEO_INTL_2015']\n",
    "azdias['C_LIFE'] = azdias['CAMEO_INTL_2015']"
   ]
  },
  {
   "cell_type": "code",
   "execution_count": 47,
   "metadata": {},
   "outputs": [],
   "source": [
    "c_wealth = {'11':1, '12':1, '13':1, '14':1, '15':1, \n",
    "                    '21':2, '22':2, '23':2, '24':2, '25':2,\n",
    "                    '31':3, '32':3, '33':3, '34':3, '35':3, \n",
    "                    '41':4, '42':4, '43':4, '44':4, '45':4,\n",
    "                    '51':5, '52':5, '53':5, '54':5, '55':5}\n",
    "c_life = {'11':1, '12':2, '13':3, '14':4, '15':5, \n",
    "                   '21':1, '22':2, '23':3, '24':4, '25':5,\n",
    "                   '31':1, '32':2, '33':3, '34':4, '35':5, \n",
    "                   '41':1, '42':2, '43':3, '44':4, '45':5,                   \n",
    "                   '51':1, '52':2, '53':3, '54':4, '55':5}"
   ]
  },
  {
   "cell_type": "code",
   "execution_count": 48,
   "metadata": {},
   "outputs": [],
   "source": [
    "new_az = azdias"
   ]
  },
  {
   "cell_type": "code",
   "execution_count": 49,
   "metadata": {},
   "outputs": [],
   "source": [
    "#azdias.head()"
   ]
  },
  {
   "cell_type": "code",
   "execution_count": 50,
   "metadata": {},
   "outputs": [],
   "source": [
    "#new_az.head()"
   ]
  },
  {
   "cell_type": "code",
   "execution_count": 51,
   "metadata": {},
   "outputs": [],
   "source": [
    "new_az['P_DECADE'].replace(p_decade, inplace = True)\n",
    "#new_az['P_DECADE']"
   ]
  },
  {
   "cell_type": "code",
   "execution_count": 52,
   "metadata": {},
   "outputs": [],
   "source": [
    "new_az['P_MOVEMENT'].replace(p_movement, inplace = True)\n",
    "#new_az['P_MOVEMENT']"
   ]
  },
  {
   "cell_type": "code",
   "execution_count": 53,
   "metadata": {},
   "outputs": [],
   "source": [
    "new_az['C_WEALTH'].replace(c_wealth, inplace = True)\n",
    "#new_az['C_WEALTH']"
   ]
  },
  {
   "cell_type": "code",
   "execution_count": 54,
   "metadata": {},
   "outputs": [],
   "source": [
    "new_az['C_LIFE'].replace(c_life, inplace = True)\n",
    "#new_az['C_LIFE']"
   ]
  },
  {
   "cell_type": "code",
   "execution_count": 55,
   "metadata": {},
   "outputs": [],
   "source": [
    "#azdias.head()"
   ]
  },
  {
   "cell_type": "code",
   "execution_count": 56,
   "metadata": {},
   "outputs": [],
   "source": [
    "#new_az.head()"
   ]
  },
  {
   "cell_type": "markdown",
   "metadata": {},
   "source": [
    "#### Discussion 1.2.2: Engineer Mixed-Type Features\n",
    "\n",
    "After investigating the data dictionary for information on CAMEO_INTL_2015 and PRAEGENDE_JUGENDJAHRE I created 4 new columns based on that information. For PRAEGENDE_JUGENDJAHRE the two new columns were based on the decade and movement pattern, where as CAMEO_INTL_2015 the two new columns were based on wealth status and life stage. \n",
    "\n",
    "For each new column I used a dictionary to hold keys and values for the columns, to create the keys and values I used the data_dictionary.md file included with the project. \n",
    "\n",
    "In addition, to creating the 4 new columns I also created a new dataset 'new_az' to hold the new columns and updated information going forward.  "
   ]
  },
  {
   "cell_type": "markdown",
   "metadata": {},
   "source": [
    "#### Step 1.2.3: Complete Feature Selection\n",
    "\n",
    "In order to finish this step up, you need to make sure that your data frame now only has the columns that you want to keep. To summarize, the dataframe should consist of the following:\n",
    "- All numeric, interval, and ordinal type columns from the original dataset.\n",
    "- Binary categorical features (all numerically-encoded).\n",
    "- Engineered features from other multi-level categorical features and mixed features.\n",
    "\n",
    "Make sure that for any new columns that you have engineered, that you've excluded the original columns from the final dataset. Otherwise, their values will interfere with the analysis later on the project. For example, you should not keep \"PRAEGENDE_JUGENDJAHRE\", since its values won't be useful for the algorithm: only the values derived from it in the engineered features you created should be retained. As a reminder, your data should only be from **the subset with few or no missing values**."
   ]
  },
  {
   "cell_type": "code",
   "execution_count": 57,
   "metadata": {},
   "outputs": [],
   "source": [
    "# If there are other re-engineering tasks you need to perform, make sure you\n",
    "# take care of them here. (Dealing with missing data will come in step 2.1.)\n",
    "\n"
   ]
  },
  {
   "cell_type": "code",
   "execution_count": 58,
   "metadata": {},
   "outputs": [
    {
     "data": {
      "text/plain": [
       "(891221, 66)"
      ]
     },
     "execution_count": 58,
     "metadata": {},
     "output_type": "execute_result"
    }
   ],
   "source": [
    "# Do whatever you need to in order to ensure that the dataframe only contains\n",
    "# the columns that should be passed to the algorithm functions.\n",
    "new_az.shape"
   ]
  },
  {
   "cell_type": "code",
   "execution_count": 59,
   "metadata": {},
   "outputs": [],
   "source": [
    "dropping = new_az[['PRAEGENDE_JUGENDJAHRE', 'CAMEO_INTL_2015']]\n",
    "#dropping "
   ]
  },
  {
   "cell_type": "code",
   "execution_count": 60,
   "metadata": {},
   "outputs": [
    {
     "data": {
      "text/plain": [
       "(891221, 64)"
      ]
     },
     "execution_count": 60,
     "metadata": {},
     "output_type": "execute_result"
    }
   ],
   "source": [
    "new_az = new_az.drop(dropping, axis = 1)\n",
    "new_az.shape"
   ]
  },
  {
   "cell_type": "markdown",
   "metadata": {},
   "source": [
    "### Step 1.3: Create a Cleaning Function\n",
    "\n",
    "Even though you've finished cleaning up the general population demographics data, it's important to look ahead to the future and realize that you'll need to perform the same cleaning steps on the customer demographics data. In this substep, complete the function below to execute the main feature selection, encoding, and re-engineering steps you performed above. Then, when it comes to looking at the customer data in Step 3, you can just run this function on that DataFrame to get the trimmed dataset in a single step."
   ]
  },
  {
   "cell_type": "code",
   "execution_count": 61,
   "metadata": {},
   "outputs": [],
   "source": [
    "def clean_data(df):\n",
    "    \"\"\"\n",
    "    Perform feature trimming, re-encoding, and engineering for demographics\n",
    "    data\n",
    "    \n",
    "    INPUT: Demographics DataFrame\n",
    "    OUTPUT: Trimmed and cleaned demographics DataFrame\n",
    "    \"\"\"\n",
    "    \n",
    "    # Put in code here to execute all main cleaning steps:\n",
    "    # convert missing value codes into NaNs, ...\n",
    "    \n",
    "    print('Data Shape for dataset: {}'.format(df.shape))\n",
    "    \n",
    "    for i in range(len(feature)):\n",
    "        A = feature['missing_or_unknown'][i]\n",
    "        A = A.replace('[','')\n",
    "        A = A.replace(']', '')\n",
    "        A = A.split(sep = ',')\n",
    "    \n",
    "   #print(A)\n",
    "\n",
    "        if A != ['']:\n",
    "            A = [int(num) if (num != 'XX' and num != 'X') else num for num in A]\n",
    "            df = df.replace({feature.iloc[i]['attribute']: A}, np.nan)\n",
    "    \n",
    "    # remove selected columns and rows, ...\n",
    "           \n",
    "    over_15_missing = missing_per_col[missing_per_col > 15]\n",
    "    df = df.drop(over_15_missing.index, axis = 1)\n",
    "\n",
    "    print('Data Shape for dataset after dropping Columns with over 15 missing values: {}'.format(df.shape))\n",
    "\n",
    "    more_than_10 = df[amount_missing >= 10]\n",
    "    less_than_10 = df[amount_missing < 10]\n",
    "        \n",
    "    f = list(less_than_10)\n",
    "    f = feature[feature['attribute'].isin(f)]\n",
    "    \n",
    "    binary = []\n",
    "    multi = []\n",
    "    \n",
    "    #print('A')\n",
    "    \n",
    "    categorical_only = f[f['type'] == 'categorical'].attribute\n",
    "    \n",
    "    for i in categorical_only:\n",
    "        if (len(less_than_10[i].dropna().unique()) == 2):\n",
    "            binary.append(i)\n",
    "        else:\n",
    "            multi.append(i)\n",
    "    \n",
    "    #print('B')\n",
    "    #print(binary)\n",
    "    #print(multi)\n",
    "    df = df.drop(multi, axis = 1)\n",
    "\n",
    "    print('Data Shape for dataset after dropping Multiple Categories: {}'.format(df.shape))\n",
    "    \n",
    "    # select, re-encode, and engineer column values.\n",
    "    \n",
    "    if 'OST_WEST_KZ' in df.columns:\n",
    "        df['OST_WEST_KZ'].replace({'W': 0, 'O': 1}, inplace=True)\n",
    "    else:\n",
    "        print(\"Column 'OST_WEST_KZ' not found in DataFrame\")\n",
    "    #print('C')\n",
    "    \n",
    "    #OST_WEST_KZ\n",
    "    \n",
    "    df['ANREDE_KZ'].replace({2:0, 1:1})\n",
    "    df['SOHO_KZ'].replace({1.:0, 0.:1})\n",
    "    \n",
    "    df.drop('VERS_TYP', axis = 1, inplace = True)\n",
    "    #df = df.drop(vv, axis = 1)\n",
    "    \n",
    "    df['P_DECADE'] = df['PRAEGENDE_JUGENDJAHRE']\n",
    "    df['P_MOVEMENT'] = df['PRAEGENDE_JUGENDJAHRE'] \n",
    "    \n",
    "    p_decade = {1:1, 2:2, 3:3, 4:4, 5:5, 6:1, 7:2, 8:3, 9:4, 10:5, 11:1, 12:2, 13:3, 14:4, 15:5}\n",
    "    p_movement = {1:0, 2:0, 3:1, 4:1, 5:0, 6:1, 7:0, 8:0, 9:1, 10:1, 11:0, 12:0, 13:1, 14:1, 15:0}\n",
    "    \n",
    "    #print('D')\n",
    "    \n",
    "    df['C_WEALTH'] = df['CAMEO_INTL_2015']\n",
    "    df['C_LIFE'] = df['CAMEO_INTL_2015']\n",
    "    \n",
    "    c_wealth = {'11':1, '12':1, '13':1, '14':1, '15':1, \n",
    "                    '21':2, '22':2, '23':2, '24':2, '25':2,\n",
    "                    '31':3, '32':3, '33':3, '34':3, '35':3, \n",
    "                    '41':4, '42':4, '43':4, '44':4, '45':4,\n",
    "                    '51':5, '52':5, '53':5, '54':5, '55':5}\n",
    "    \n",
    "    c_life = {'11':1, '12':2, '13':3, '14':4, '15':5, \n",
    "                   '21':1, '22':2, '23':3, '24':4, '25':5,\n",
    "                   '31':1, '32':2, '33':3, '34':4, '35':5, \n",
    "                   '41':1, '42':2, '43':3, '44':4, '45':5,                   \n",
    "                   '51':1, '52':2, '53':3, '54':4, '55':5}\n",
    "    #print('E')\n",
    "    \n",
    "    #print('F')\n",
    "    df['P_DECADE'].replace(p_decade, inplace = True)\n",
    "    df['P_MOVEMENT'].replace(p_movement, inplace = True)\n",
    "    df['C_WEALTH'].replace(c_wealth, inplace = True)\n",
    "    df['C_LIFE'].replace(c_life, inplace = True)\n",
    "    \n",
    "    #print('G')\n",
    "    \n",
    "    dropping = df[['PRAEGENDE_JUGENDJAHRE', 'CAMEO_INTL_2015']]\n",
    "    df = df.drop(dropping, axis = 1)\n",
    "    \n",
    "    print('Data Shape for dataset: {}'.format(df.shape))\n",
    "    # Return the cleaned dataframe.\n",
    "    \n",
    "    return df"
   ]
  },
  {
   "cell_type": "markdown",
   "metadata": {},
   "source": [
    "## Step 2: Feature Transformation\n",
    "\n",
    "### Step 2.1: Apply Feature Scaling\n",
    "\n",
    "Before we apply dimensionality reduction techniques to the data, we need to perform feature scaling so that the principal component vectors are not influenced by the natural differences in scale for features. Starting from this part of the project, you'll want to keep an eye on the [API reference page for sklearn](http://scikit-learn.org/stable/modules/classes.html) to help you navigate to all of the classes and functions that you'll need. In this substep, you'll need to check the following:\n",
    "\n",
    "- sklearn requires that data not have missing values in order for its estimators to work properly. So, before applying the scaler to your data, make sure that you've cleaned the DataFrame of the remaining missing values. This can be as simple as just removing all data points with missing data, or applying an [Imputer](https://scikit-learn.org/0.16/modules/generated/sklearn.preprocessing.Imputer.html) to replace all missing values. You might also try a more complicated procedure where you temporarily remove missing values in order to compute the scaling parameters before re-introducing those missing values and applying imputation. Think about how much missing data you have and what possible effects each approach might have on your analysis, and justify your decision in the discussion section below.\n",
    "- For the actual scaling function, a [StandardScaler](http://scikit-learn.org/stable/modules/generated/sklearn.preprocessing.StandardScaler.html) instance is suggested, scaling each feature to mean 0 and standard deviation 1.\n",
    "- For these classes, you can make use of the `.fit_transform()` method to both fit a procedure to the data as well as apply the transformation to the data at the same time. Don't forget to keep the fit sklearn objects handy, since you'll be applying them to the customer demographics data towards the end of the project."
   ]
  },
  {
   "cell_type": "code",
   "execution_count": 62,
   "metadata": {
    "scrolled": false
   },
   "outputs": [],
   "source": [
    "#Just to verify function is functionable, I am testing it.\n",
    "#tester = pd.read_csv('Udacity_AZDIAS_Subset.csv', delimiter = ';')\n"
   ]
  },
  {
   "cell_type": "code",
   "execution_count": 63,
   "metadata": {},
   "outputs": [],
   "source": [
    "#tester = clean_data(tester)\n",
    "#tester.head()"
   ]
  },
  {
   "cell_type": "code",
   "execution_count": 64,
   "metadata": {
    "scrolled": true
   },
   "outputs": [],
   "source": [
    "#cust = pd.read_csv('Udacity_CUSTOMERS_Subset.csv', delimiter = ';')\n"
   ]
  },
  {
   "cell_type": "code",
   "execution_count": 65,
   "metadata": {
    "scrolled": false
   },
   "outputs": [
    {
     "data": {
      "text/plain": [
       "3981145"
      ]
     },
     "execution_count": 65,
     "metadata": {},
     "output_type": "execute_result"
    }
   ],
   "source": [
    "# If you've not yet cleaned the dataset of all NaN values, then investigate and\n",
    "# do that now.\n",
    "\n",
    "amount_na = new_az.isna().sum()\n",
    "amount_na.sum()"
   ]
  },
  {
   "cell_type": "code",
   "execution_count": 66,
   "metadata": {},
   "outputs": [],
   "source": [
    "imputer = Imputer()"
   ]
  },
  {
   "cell_type": "code",
   "execution_count": 67,
   "metadata": {
    "scrolled": true
   },
   "outputs": [],
   "source": [
    "z = imputer.fit_transform(new_az)"
   ]
  },
  {
   "cell_type": "code",
   "execution_count": 68,
   "metadata": {},
   "outputs": [
    {
     "data": {
      "text/html": [
       "<div>\n",
       "<style scoped>\n",
       "    .dataframe tbody tr th:only-of-type {\n",
       "        vertical-align: middle;\n",
       "    }\n",
       "\n",
       "    .dataframe tbody tr th {\n",
       "        vertical-align: top;\n",
       "    }\n",
       "\n",
       "    .dataframe thead th {\n",
       "        text-align: right;\n",
       "    }\n",
       "</style>\n",
       "<table border=\"1\" class=\"dataframe\">\n",
       "  <thead>\n",
       "    <tr style=\"text-align: right;\">\n",
       "      <th></th>\n",
       "      <th>ALTERSKATEGORIE_GROB</th>\n",
       "      <th>ANREDE_KZ</th>\n",
       "      <th>FINANZ_MINIMALIST</th>\n",
       "      <th>FINANZ_SPARER</th>\n",
       "      <th>FINANZ_VORSORGER</th>\n",
       "      <th>FINANZ_ANLEGER</th>\n",
       "      <th>FINANZ_UNAUFFAELLIGER</th>\n",
       "      <th>FINANZ_HAUSBAUER</th>\n",
       "      <th>GREEN_AVANTGARDE</th>\n",
       "      <th>HEALTH_TYP</th>\n",
       "      <th>LP_LEBENSPHASE_FEIN</th>\n",
       "      <th>LP_LEBENSPHASE_GROB</th>\n",
       "      <th>RETOURTYP_BK_S</th>\n",
       "      <th>SEMIO_SOZ</th>\n",
       "      <th>SEMIO_FAM</th>\n",
       "      <th>SEMIO_REL</th>\n",
       "      <th>SEMIO_MAT</th>\n",
       "      <th>SEMIO_VERT</th>\n",
       "      <th>SEMIO_LUST</th>\n",
       "      <th>SEMIO_ERL</th>\n",
       "      <th>SEMIO_KULT</th>\n",
       "      <th>SEMIO_RAT</th>\n",
       "      <th>SEMIO_KRIT</th>\n",
       "      <th>SEMIO_DOM</th>\n",
       "      <th>SEMIO_KAEM</th>\n",
       "      <th>SEMIO_PFLICHT</th>\n",
       "      <th>SEMIO_TRADV</th>\n",
       "      <th>SOHO_KZ</th>\n",
       "      <th>ANZ_PERSONEN</th>\n",
       "      <th>ANZ_TITEL</th>\n",
       "      <th>HH_EINKOMMEN_SCORE</th>\n",
       "      <th>WOHNDAUER_2008</th>\n",
       "      <th>ANZ_HAUSHALTE_AKTIV</th>\n",
       "      <th>ANZ_HH_TITEL</th>\n",
       "      <th>KONSUMNAEHE</th>\n",
       "      <th>MIN_GEBAEUDEJAHR</th>\n",
       "      <th>OST_WEST_KZ</th>\n",
       "      <th>WOHNLAGE</th>\n",
       "      <th>KBA05_ANTG1</th>\n",
       "      <th>KBA05_ANTG2</th>\n",
       "      <th>KBA05_ANTG3</th>\n",
       "      <th>KBA05_ANTG4</th>\n",
       "      <th>KBA05_GBZ</th>\n",
       "      <th>BALLRAUM</th>\n",
       "      <th>EWDICHTE</th>\n",
       "      <th>INNENSTADT</th>\n",
       "      <th>GEBAEUDETYP_RASTER</th>\n",
       "      <th>MOBI_REGIO</th>\n",
       "      <th>ONLINE_AFFINITAET</th>\n",
       "      <th>KBA13_ANZAHL_PKW</th>\n",
       "      <th>PLZ8_ANTG1</th>\n",
       "      <th>PLZ8_ANTG2</th>\n",
       "      <th>PLZ8_ANTG3</th>\n",
       "      <th>PLZ8_ANTG4</th>\n",
       "      <th>PLZ8_BAUMAX</th>\n",
       "      <th>PLZ8_HHZ</th>\n",
       "      <th>PLZ8_GBZ</th>\n",
       "      <th>ARBEIT</th>\n",
       "      <th>ORTSGR_KLS9</th>\n",
       "      <th>RELAT_AB</th>\n",
       "      <th>P_DECADE</th>\n",
       "      <th>P_MOVEMENT</th>\n",
       "      <th>C_WEALTH</th>\n",
       "      <th>C_LIFE</th>\n",
       "    </tr>\n",
       "  </thead>\n",
       "  <tbody>\n",
       "    <tr>\n",
       "      <th>0</th>\n",
       "      <td>2.0</td>\n",
       "      <td>1.0</td>\n",
       "      <td>3.0</td>\n",
       "      <td>4.0</td>\n",
       "      <td>3.0</td>\n",
       "      <td>5.0</td>\n",
       "      <td>5.0</td>\n",
       "      <td>3.0</td>\n",
       "      <td>0.0</td>\n",
       "      <td>2.190129</td>\n",
       "      <td>15.000000</td>\n",
       "      <td>4.000000</td>\n",
       "      <td>5.0</td>\n",
       "      <td>2.0</td>\n",
       "      <td>6.0</td>\n",
       "      <td>7.0</td>\n",
       "      <td>5.0</td>\n",
       "      <td>1.0</td>\n",
       "      <td>5.0</td>\n",
       "      <td>3.0</td>\n",
       "      <td>3.0</td>\n",
       "      <td>4.0</td>\n",
       "      <td>7.0</td>\n",
       "      <td>6.0</td>\n",
       "      <td>6.0</td>\n",
       "      <td>5.0</td>\n",
       "      <td>3.0</td>\n",
       "      <td>0.991577</td>\n",
       "      <td>1.727637</td>\n",
       "      <td>0.004162</td>\n",
       "      <td>2.0</td>\n",
       "      <td>7.908791</td>\n",
       "      <td>8.354924</td>\n",
       "      <td>0.040647</td>\n",
       "      <td>3.018452</td>\n",
       "      <td>1993.277011</td>\n",
       "      <td>0.21119</td>\n",
       "      <td>4.052836</td>\n",
       "      <td>1.494277</td>\n",
       "      <td>1.265584</td>\n",
       "      <td>0.624525</td>\n",
       "      <td>0.305927</td>\n",
       "      <td>3.15858</td>\n",
       "      <td>4.153043</td>\n",
       "      <td>3.939172</td>\n",
       "      <td>4.549491</td>\n",
       "      <td>3.738306</td>\n",
       "      <td>2.96354</td>\n",
       "      <td>1.0</td>\n",
       "      <td>619.701439</td>\n",
       "      <td>2.25333</td>\n",
       "      <td>2.801858</td>\n",
       "      <td>1.595426</td>\n",
       "      <td>0.699166</td>\n",
       "      <td>1.943913</td>\n",
       "      <td>3.612821</td>\n",
       "      <td>3.381087</td>\n",
       "      <td>3.166686</td>\n",
       "      <td>5.293389</td>\n",
       "      <td>3.071033</td>\n",
       "      <td>3.601429</td>\n",
       "      <td>0.530149</td>\n",
       "      <td>3.262098</td>\n",
       "      <td>2.873033</td>\n",
       "    </tr>\n",
       "    <tr>\n",
       "      <th>1</th>\n",
       "      <td>1.0</td>\n",
       "      <td>0.0</td>\n",
       "      <td>1.0</td>\n",
       "      <td>5.0</td>\n",
       "      <td>2.0</td>\n",
       "      <td>5.0</td>\n",
       "      <td>4.0</td>\n",
       "      <td>5.0</td>\n",
       "      <td>0.0</td>\n",
       "      <td>3.000000</td>\n",
       "      <td>21.000000</td>\n",
       "      <td>6.000000</td>\n",
       "      <td>1.0</td>\n",
       "      <td>5.0</td>\n",
       "      <td>4.0</td>\n",
       "      <td>4.0</td>\n",
       "      <td>3.0</td>\n",
       "      <td>1.0</td>\n",
       "      <td>2.0</td>\n",
       "      <td>2.0</td>\n",
       "      <td>3.0</td>\n",
       "      <td>6.0</td>\n",
       "      <td>4.0</td>\n",
       "      <td>7.0</td>\n",
       "      <td>4.0</td>\n",
       "      <td>7.0</td>\n",
       "      <td>6.0</td>\n",
       "      <td>0.000000</td>\n",
       "      <td>2.000000</td>\n",
       "      <td>0.000000</td>\n",
       "      <td>6.0</td>\n",
       "      <td>9.000000</td>\n",
       "      <td>11.000000</td>\n",
       "      <td>0.000000</td>\n",
       "      <td>1.000000</td>\n",
       "      <td>1992.000000</td>\n",
       "      <td>0.00000</td>\n",
       "      <td>4.000000</td>\n",
       "      <td>0.000000</td>\n",
       "      <td>0.000000</td>\n",
       "      <td>0.000000</td>\n",
       "      <td>2.000000</td>\n",
       "      <td>1.00000</td>\n",
       "      <td>6.000000</td>\n",
       "      <td>3.000000</td>\n",
       "      <td>8.000000</td>\n",
       "      <td>3.000000</td>\n",
       "      <td>1.00000</td>\n",
       "      <td>3.0</td>\n",
       "      <td>963.000000</td>\n",
       "      <td>2.00000</td>\n",
       "      <td>3.000000</td>\n",
       "      <td>2.000000</td>\n",
       "      <td>1.000000</td>\n",
       "      <td>1.000000</td>\n",
       "      <td>5.000000</td>\n",
       "      <td>4.000000</td>\n",
       "      <td>3.000000</td>\n",
       "      <td>5.000000</td>\n",
       "      <td>4.000000</td>\n",
       "      <td>4.000000</td>\n",
       "      <td>1.000000</td>\n",
       "      <td>5.000000</td>\n",
       "      <td>1.000000</td>\n",
       "    </tr>\n",
       "    <tr>\n",
       "      <th>2</th>\n",
       "      <td>3.0</td>\n",
       "      <td>0.0</td>\n",
       "      <td>1.0</td>\n",
       "      <td>4.0</td>\n",
       "      <td>1.0</td>\n",
       "      <td>2.0</td>\n",
       "      <td>3.0</td>\n",
       "      <td>5.0</td>\n",
       "      <td>1.0</td>\n",
       "      <td>3.000000</td>\n",
       "      <td>3.000000</td>\n",
       "      <td>1.000000</td>\n",
       "      <td>3.0</td>\n",
       "      <td>4.0</td>\n",
       "      <td>1.0</td>\n",
       "      <td>3.0</td>\n",
       "      <td>3.0</td>\n",
       "      <td>4.0</td>\n",
       "      <td>4.0</td>\n",
       "      <td>6.0</td>\n",
       "      <td>3.0</td>\n",
       "      <td>4.0</td>\n",
       "      <td>7.0</td>\n",
       "      <td>7.0</td>\n",
       "      <td>7.0</td>\n",
       "      <td>3.0</td>\n",
       "      <td>3.0</td>\n",
       "      <td>1.000000</td>\n",
       "      <td>1.000000</td>\n",
       "      <td>0.000000</td>\n",
       "      <td>4.0</td>\n",
       "      <td>9.000000</td>\n",
       "      <td>10.000000</td>\n",
       "      <td>0.000000</td>\n",
       "      <td>5.000000</td>\n",
       "      <td>1992.000000</td>\n",
       "      <td>0.00000</td>\n",
       "      <td>2.000000</td>\n",
       "      <td>1.000000</td>\n",
       "      <td>3.000000</td>\n",
       "      <td>1.000000</td>\n",
       "      <td>0.000000</td>\n",
       "      <td>3.00000</td>\n",
       "      <td>2.000000</td>\n",
       "      <td>4.000000</td>\n",
       "      <td>4.000000</td>\n",
       "      <td>4.000000</td>\n",
       "      <td>3.00000</td>\n",
       "      <td>2.0</td>\n",
       "      <td>712.000000</td>\n",
       "      <td>3.00000</td>\n",
       "      <td>3.000000</td>\n",
       "      <td>1.000000</td>\n",
       "      <td>0.000000</td>\n",
       "      <td>1.000000</td>\n",
       "      <td>4.000000</td>\n",
       "      <td>4.000000</td>\n",
       "      <td>3.000000</td>\n",
       "      <td>5.000000</td>\n",
       "      <td>2.000000</td>\n",
       "      <td>5.000000</td>\n",
       "      <td>0.000000</td>\n",
       "      <td>2.000000</td>\n",
       "      <td>4.000000</td>\n",
       "    </tr>\n",
       "    <tr>\n",
       "      <th>3</th>\n",
       "      <td>4.0</td>\n",
       "      <td>0.0</td>\n",
       "      <td>4.0</td>\n",
       "      <td>2.0</td>\n",
       "      <td>5.0</td>\n",
       "      <td>2.0</td>\n",
       "      <td>1.0</td>\n",
       "      <td>2.0</td>\n",
       "      <td>0.0</td>\n",
       "      <td>2.000000</td>\n",
       "      <td>16.332161</td>\n",
       "      <td>4.955185</td>\n",
       "      <td>2.0</td>\n",
       "      <td>5.0</td>\n",
       "      <td>1.0</td>\n",
       "      <td>2.0</td>\n",
       "      <td>1.0</td>\n",
       "      <td>4.0</td>\n",
       "      <td>4.0</td>\n",
       "      <td>7.0</td>\n",
       "      <td>4.0</td>\n",
       "      <td>3.0</td>\n",
       "      <td>4.0</td>\n",
       "      <td>4.0</td>\n",
       "      <td>5.0</td>\n",
       "      <td>4.0</td>\n",
       "      <td>4.0</td>\n",
       "      <td>1.000000</td>\n",
       "      <td>0.000000</td>\n",
       "      <td>0.000000</td>\n",
       "      <td>1.0</td>\n",
       "      <td>9.000000</td>\n",
       "      <td>1.000000</td>\n",
       "      <td>0.000000</td>\n",
       "      <td>4.000000</td>\n",
       "      <td>1997.000000</td>\n",
       "      <td>0.00000</td>\n",
       "      <td>7.000000</td>\n",
       "      <td>4.000000</td>\n",
       "      <td>1.000000</td>\n",
       "      <td>0.000000</td>\n",
       "      <td>0.000000</td>\n",
       "      <td>4.00000</td>\n",
       "      <td>4.000000</td>\n",
       "      <td>2.000000</td>\n",
       "      <td>6.000000</td>\n",
       "      <td>4.000000</td>\n",
       "      <td>4.00000</td>\n",
       "      <td>1.0</td>\n",
       "      <td>596.000000</td>\n",
       "      <td>2.00000</td>\n",
       "      <td>2.000000</td>\n",
       "      <td>2.000000</td>\n",
       "      <td>0.000000</td>\n",
       "      <td>1.000000</td>\n",
       "      <td>3.000000</td>\n",
       "      <td>4.000000</td>\n",
       "      <td>2.000000</td>\n",
       "      <td>3.000000</td>\n",
       "      <td>3.000000</td>\n",
       "      <td>3.000000</td>\n",
       "      <td>0.000000</td>\n",
       "      <td>1.000000</td>\n",
       "      <td>2.000000</td>\n",
       "    </tr>\n",
       "    <tr>\n",
       "      <th>4</th>\n",
       "      <td>3.0</td>\n",
       "      <td>1.0</td>\n",
       "      <td>4.0</td>\n",
       "      <td>3.0</td>\n",
       "      <td>4.0</td>\n",
       "      <td>1.0</td>\n",
       "      <td>3.0</td>\n",
       "      <td>2.0</td>\n",
       "      <td>0.0</td>\n",
       "      <td>3.000000</td>\n",
       "      <td>32.000000</td>\n",
       "      <td>10.000000</td>\n",
       "      <td>5.0</td>\n",
       "      <td>6.0</td>\n",
       "      <td>4.0</td>\n",
       "      <td>4.0</td>\n",
       "      <td>2.0</td>\n",
       "      <td>7.0</td>\n",
       "      <td>4.0</td>\n",
       "      <td>4.0</td>\n",
       "      <td>6.0</td>\n",
       "      <td>2.0</td>\n",
       "      <td>3.0</td>\n",
       "      <td>2.0</td>\n",
       "      <td>2.0</td>\n",
       "      <td>4.0</td>\n",
       "      <td>2.0</td>\n",
       "      <td>1.000000</td>\n",
       "      <td>4.000000</td>\n",
       "      <td>0.000000</td>\n",
       "      <td>5.0</td>\n",
       "      <td>9.000000</td>\n",
       "      <td>3.000000</td>\n",
       "      <td>0.000000</td>\n",
       "      <td>4.000000</td>\n",
       "      <td>1992.000000</td>\n",
       "      <td>0.00000</td>\n",
       "      <td>3.000000</td>\n",
       "      <td>1.000000</td>\n",
       "      <td>4.000000</td>\n",
       "      <td>1.000000</td>\n",
       "      <td>0.000000</td>\n",
       "      <td>3.00000</td>\n",
       "      <td>2.000000</td>\n",
       "      <td>5.000000</td>\n",
       "      <td>1.000000</td>\n",
       "      <td>5.000000</td>\n",
       "      <td>3.00000</td>\n",
       "      <td>5.0</td>\n",
       "      <td>435.000000</td>\n",
       "      <td>2.00000</td>\n",
       "      <td>4.000000</td>\n",
       "      <td>2.000000</td>\n",
       "      <td>1.000000</td>\n",
       "      <td>2.000000</td>\n",
       "      <td>3.000000</td>\n",
       "      <td>3.000000</td>\n",
       "      <td>4.000000</td>\n",
       "      <td>6.000000</td>\n",
       "      <td>5.000000</td>\n",
       "      <td>3.000000</td>\n",
       "      <td>0.000000</td>\n",
       "      <td>4.000000</td>\n",
       "      <td>3.000000</td>\n",
       "    </tr>\n",
       "  </tbody>\n",
       "</table>\n",
       "</div>"
      ],
      "text/plain": [
       "   ALTERSKATEGORIE_GROB  ANREDE_KZ  FINANZ_MINIMALIST  FINANZ_SPARER  \\\n",
       "0                   2.0        1.0                3.0            4.0   \n",
       "1                   1.0        0.0                1.0            5.0   \n",
       "2                   3.0        0.0                1.0            4.0   \n",
       "3                   4.0        0.0                4.0            2.0   \n",
       "4                   3.0        1.0                4.0            3.0   \n",
       "\n",
       "   FINANZ_VORSORGER  FINANZ_ANLEGER  FINANZ_UNAUFFAELLIGER  FINANZ_HAUSBAUER  \\\n",
       "0               3.0             5.0                    5.0               3.0   \n",
       "1               2.0             5.0                    4.0               5.0   \n",
       "2               1.0             2.0                    3.0               5.0   \n",
       "3               5.0             2.0                    1.0               2.0   \n",
       "4               4.0             1.0                    3.0               2.0   \n",
       "\n",
       "   GREEN_AVANTGARDE  HEALTH_TYP  LP_LEBENSPHASE_FEIN  LP_LEBENSPHASE_GROB  \\\n",
       "0               0.0    2.190129            15.000000             4.000000   \n",
       "1               0.0    3.000000            21.000000             6.000000   \n",
       "2               1.0    3.000000             3.000000             1.000000   \n",
       "3               0.0    2.000000            16.332161             4.955185   \n",
       "4               0.0    3.000000            32.000000            10.000000   \n",
       "\n",
       "   RETOURTYP_BK_S  SEMIO_SOZ  SEMIO_FAM  SEMIO_REL  SEMIO_MAT  SEMIO_VERT  \\\n",
       "0             5.0        2.0        6.0        7.0        5.0         1.0   \n",
       "1             1.0        5.0        4.0        4.0        3.0         1.0   \n",
       "2             3.0        4.0        1.0        3.0        3.0         4.0   \n",
       "3             2.0        5.0        1.0        2.0        1.0         4.0   \n",
       "4             5.0        6.0        4.0        4.0        2.0         7.0   \n",
       "\n",
       "   SEMIO_LUST  SEMIO_ERL  SEMIO_KULT  SEMIO_RAT  SEMIO_KRIT  SEMIO_DOM  \\\n",
       "0         5.0        3.0         3.0        4.0         7.0        6.0   \n",
       "1         2.0        2.0         3.0        6.0         4.0        7.0   \n",
       "2         4.0        6.0         3.0        4.0         7.0        7.0   \n",
       "3         4.0        7.0         4.0        3.0         4.0        4.0   \n",
       "4         4.0        4.0         6.0        2.0         3.0        2.0   \n",
       "\n",
       "   SEMIO_KAEM  SEMIO_PFLICHT  SEMIO_TRADV   SOHO_KZ  ANZ_PERSONEN  ANZ_TITEL  \\\n",
       "0         6.0            5.0          3.0  0.991577      1.727637   0.004162   \n",
       "1         4.0            7.0          6.0  0.000000      2.000000   0.000000   \n",
       "2         7.0            3.0          3.0  1.000000      1.000000   0.000000   \n",
       "3         5.0            4.0          4.0  1.000000      0.000000   0.000000   \n",
       "4         2.0            4.0          2.0  1.000000      4.000000   0.000000   \n",
       "\n",
       "   HH_EINKOMMEN_SCORE  WOHNDAUER_2008  ANZ_HAUSHALTE_AKTIV  ANZ_HH_TITEL  \\\n",
       "0                 2.0        7.908791             8.354924      0.040647   \n",
       "1                 6.0        9.000000            11.000000      0.000000   \n",
       "2                 4.0        9.000000            10.000000      0.000000   \n",
       "3                 1.0        9.000000             1.000000      0.000000   \n",
       "4                 5.0        9.000000             3.000000      0.000000   \n",
       "\n",
       "   KONSUMNAEHE  MIN_GEBAEUDEJAHR  OST_WEST_KZ  WOHNLAGE  KBA05_ANTG1  \\\n",
       "0     3.018452       1993.277011      0.21119  4.052836     1.494277   \n",
       "1     1.000000       1992.000000      0.00000  4.000000     0.000000   \n",
       "2     5.000000       1992.000000      0.00000  2.000000     1.000000   \n",
       "3     4.000000       1997.000000      0.00000  7.000000     4.000000   \n",
       "4     4.000000       1992.000000      0.00000  3.000000     1.000000   \n",
       "\n",
       "   KBA05_ANTG2  KBA05_ANTG3  KBA05_ANTG4  KBA05_GBZ  BALLRAUM  EWDICHTE  \\\n",
       "0     1.265584     0.624525     0.305927    3.15858  4.153043  3.939172   \n",
       "1     0.000000     0.000000     2.000000    1.00000  6.000000  3.000000   \n",
       "2     3.000000     1.000000     0.000000    3.00000  2.000000  4.000000   \n",
       "3     1.000000     0.000000     0.000000    4.00000  4.000000  2.000000   \n",
       "4     4.000000     1.000000     0.000000    3.00000  2.000000  5.000000   \n",
       "\n",
       "   INNENSTADT  GEBAEUDETYP_RASTER  MOBI_REGIO  ONLINE_AFFINITAET  \\\n",
       "0    4.549491            3.738306     2.96354                1.0   \n",
       "1    8.000000            3.000000     1.00000                3.0   \n",
       "2    4.000000            4.000000     3.00000                2.0   \n",
       "3    6.000000            4.000000     4.00000                1.0   \n",
       "4    1.000000            5.000000     3.00000                5.0   \n",
       "\n",
       "   KBA13_ANZAHL_PKW  PLZ8_ANTG1  PLZ8_ANTG2  PLZ8_ANTG3  PLZ8_ANTG4  \\\n",
       "0        619.701439     2.25333    2.801858    1.595426    0.699166   \n",
       "1        963.000000     2.00000    3.000000    2.000000    1.000000   \n",
       "2        712.000000     3.00000    3.000000    1.000000    0.000000   \n",
       "3        596.000000     2.00000    2.000000    2.000000    0.000000   \n",
       "4        435.000000     2.00000    4.000000    2.000000    1.000000   \n",
       "\n",
       "   PLZ8_BAUMAX  PLZ8_HHZ  PLZ8_GBZ    ARBEIT  ORTSGR_KLS9  RELAT_AB  P_DECADE  \\\n",
       "0     1.943913  3.612821  3.381087  3.166686     5.293389  3.071033  3.601429   \n",
       "1     1.000000  5.000000  4.000000  3.000000     5.000000  4.000000  4.000000   \n",
       "2     1.000000  4.000000  4.000000  3.000000     5.000000  2.000000  5.000000   \n",
       "3     1.000000  3.000000  4.000000  2.000000     3.000000  3.000000  3.000000   \n",
       "4     2.000000  3.000000  3.000000  4.000000     6.000000  5.000000  3.000000   \n",
       "\n",
       "   P_MOVEMENT  C_WEALTH    C_LIFE  \n",
       "0    0.530149  3.262098  2.873033  \n",
       "1    1.000000  5.000000  1.000000  \n",
       "2    0.000000  2.000000  4.000000  \n",
       "3    0.000000  1.000000  2.000000  \n",
       "4    0.000000  4.000000  3.000000  "
      ]
     },
     "execution_count": 68,
     "metadata": {},
     "output_type": "execute_result"
    }
   ],
   "source": [
    "new_az = pd.DataFrame(z, columns = new_az.columns)\n",
    "new_az.head()"
   ]
  },
  {
   "cell_type": "code",
   "execution_count": 69,
   "metadata": {},
   "outputs": [],
   "source": [
    "# Apply feature scaling to the general population demographics data.\n",
    "from sklearn.preprocessing import StandardScaler "
   ]
  },
  {
   "cell_type": "code",
   "execution_count": 70,
   "metadata": {},
   "outputs": [],
   "source": [
    "scaled = StandardScaler()"
   ]
  },
  {
   "cell_type": "code",
   "execution_count": 71,
   "metadata": {
    "scrolled": true
   },
   "outputs": [],
   "source": [
    "y = scaled.fit_transform(new_az)"
   ]
  },
  {
   "cell_type": "code",
   "execution_count": 72,
   "metadata": {},
   "outputs": [],
   "source": [
    "new_az = pd.DataFrame(y, columns = new_az.columns)\n",
    "#new_az.head()"
   ]
  },
  {
   "cell_type": "code",
   "execution_count": 73,
   "metadata": {},
   "outputs": [],
   "source": [
    "#new_az.describe().round(3)"
   ]
  },
  {
   "cell_type": "markdown",
   "metadata": {},
   "source": [
    "### Discussion 2.1: Apply Feature Scaling\n",
    "\n",
    "From this point, I applied a imputer to fill in any missing values that were still in play with the data set. For the imputer I used the strategy of mean, the reason behind this was to minimize the possiblity of outliers. \n",
    "\n",
    "With the Standard Scaler I simply fit and transformed the data set, with this I had transformed the data set into a range between -1.743 through 1.233. "
   ]
  },
  {
   "cell_type": "markdown",
   "metadata": {},
   "source": [
    "### Step 2.2: Perform Dimensionality Reduction\n",
    "\n",
    "On your scaled data, you are now ready to apply dimensionality reduction techniques.\n",
    "\n",
    "- Use sklearn's [PCA](http://scikit-learn.org/stable/modules/generated/sklearn.decomposition.PCA.html) class to apply principal component analysis on the data, thus finding the vectors of maximal variance in the data. To start, you should not set any parameters (so all components are computed) or set a number of components that is at least half the number of features (so there's enough features to see the general trend in variability).\n",
    "- Check out the ratio of variance explained by each principal component as well as the cumulative variance explained. Try plotting the cumulative or sequential values using matplotlib's [`plot()`](https://matplotlib.org/api/_as_gen/matplotlib.pyplot.plot.html) function. Based on what you find, select a value for the number of transformed features you'll retain for the clustering part of the project.\n",
    "- Once you've made a choice for the number of components to keep, make sure you re-fit a PCA instance to perform the decided-on transformation."
   ]
  },
  {
   "cell_type": "code",
   "execution_count": 74,
   "metadata": {},
   "outputs": [],
   "source": [
    "# Apply PCA to the data.\n",
    "pca = PCA()"
   ]
  },
  {
   "cell_type": "code",
   "execution_count": 75,
   "metadata": {},
   "outputs": [],
   "source": [
    "pca_az = pca.fit(new_az)"
   ]
  },
  {
   "cell_type": "code",
   "execution_count": 76,
   "metadata": {},
   "outputs": [
    {
     "data": {
      "image/png": "[encoded data removed]",
      "text/plain": [
       "<matplotlib.figure.Figure at 0x79dba051ef98>"
      ]
     },
     "metadata": {
      "needs_background": "light"
     },
     "output_type": "display_data"
    }
   ],
   "source": [
    "# Investigate the variance accounted for by each principal component.\n",
    "plt.plot(pca_az.explained_variance_ratio_)\n",
    "plt.xlabel('Number of Components')\n",
    "plt.ylabel('Variance Ratio')\n",
    "plt.show();"
   ]
  },
  {
   "cell_type": "code",
   "execution_count": 77,
   "metadata": {},
   "outputs": [],
   "source": [
    "# Re-apply PCA to the data while selecting for number of components to retain.\n",
    "\n",
    "pca45 = PCA(n_components = 45)"
   ]
  },
  {
   "cell_type": "code",
   "execution_count": 78,
   "metadata": {},
   "outputs": [],
   "source": [
    "az_pca45 = pca45.fit_transform(new_az)"
   ]
  },
  {
   "cell_type": "markdown",
   "metadata": {},
   "source": [
    "### Discussion 2.2: Perform Dimensionality Reduction\n",
    "\n",
    "I applied the principal component analysis (PCA) to the new_az dataset, after plotting out the dataset using the explained variance ratio attribute. By doing this I was able to see once we hit the 40-45 component mark there isn't that big a of drop until we reach past 60 when the number of components finally hits zero. Therefore, I set up a variable pca45 with the PCA number of components set at 45 and then fitted the PCA to the dataset. "
   ]
  },
  {
   "cell_type": "markdown",
   "metadata": {},
   "source": [
    "### Step 2.3: Interpret Principal Components\n",
    "\n",
    "Now that we have our transformed principal components, it's a nice idea to check out the weight of each variable on the first few components to see if they can be interpreted in some fashion.\n",
    "\n",
    "As a reminder, each principal component is a unit vector that points in the direction of highest variance (after accounting for the variance captured by earlier principal components). The further a weight is from zero, the more the principal component is in the direction of the corresponding feature. If two features have large weights of the same sign (both positive or both negative), then increases in one tend expect to be associated with increases in the other. To contrast, features with different signs can be expected to show a negative correlation: increases in one variable should result in a decrease in the other.\n",
    "\n",
    "- To investigate the features, you should map each weight to their corresponding feature name, then sort the features according to weight. The most interesting features for each principal component, then, will be those at the beginning and end of the sorted list. Use the data dictionary document to help you understand these most prominent features, their relationships, and what a positive or negative value on the principal component might indicate.\n",
    "- You should investigate and interpret feature associations from the first three principal components in this substep. To help facilitate this, you should write a function that you can call at any time to print the sorted list of feature weights, for the *i*-th principal component. This might come in handy in the next step of the project, when you interpret the tendencies of the discovered clusters."
   ]
  },
  {
   "cell_type": "code",
   "execution_count": 79,
   "metadata": {},
   "outputs": [
    {
     "data": {
      "text/plain": [
       "EWDICHTE       0.20616\n",
       "ORTSGR_KLS9    0.20832\n",
       "PLZ8_BAUMAX    0.22260\n",
       "PLZ8_ANTG4     0.22772\n",
       "PLZ8_ANTG3     0.23370\n",
       "Name: 0, dtype: float64"
      ]
     },
     "execution_count": 79,
     "metadata": {},
     "output_type": "execute_result"
    }
   ],
   "source": [
    "# Map weights for the first principal component to corresponding feature names\n",
    "# and then print the linked values, sorted by weight.\n",
    "# HINT: Try defining a function here or in a new cell that you can reuse in the\n",
    "# other cells.\n",
    "\n",
    "def weighted_pca (dataset, i):\n",
    "    weighted_dataset = pd.DataFrame(pca.components_, columns = list(new_az.columns)).iloc[i]\n",
    "    return weighted_dataset\n",
    "\n",
    "weighted_pca(new_az, 0).sort_values().round(5).tail()"
   ]
  },
  {
   "cell_type": "code",
   "execution_count": 80,
   "metadata": {},
   "outputs": [
    {
     "data": {
      "text/plain": [
       "MOBI_REGIO          -0.24164\n",
       "PLZ8_ANTG1          -0.23230\n",
       "KBA05_ANTG1         -0.22357\n",
       "KBA05_GBZ           -0.21729\n",
       "FINANZ_MINIMALIST   -0.19559\n",
       "Name: 0, dtype: float64"
      ]
     },
     "execution_count": 80,
     "metadata": {},
     "output_type": "execute_result"
    }
   ],
   "source": [
    "weighted_pca(new_az, 0).sort_values().round(5).head()"
   ]
  },
  {
   "cell_type": "code",
   "execution_count": 81,
   "metadata": {},
   "outputs": [
    {
     "data": {
      "text/plain": [
       "RETOURTYP_BK_S          0.17301\n",
       "SEMIO_LUST              0.19330\n",
       "SEMIO_ERL               0.24954\n",
       "FINANZ_VORSORGER        0.25924\n",
       "ALTERSKATEGORIE_GROB    0.28931\n",
       "Name: 1, dtype: float64"
      ]
     },
     "execution_count": 81,
     "metadata": {},
     "output_type": "execute_result"
    }
   ],
   "source": [
    "# Map weights for the second principal component to corresponding feature names\n",
    "# and then print the linked values, sorted by weight.\n",
    "\n",
    "weighted_pca(new_az, 1).sort_values().round(5).tail()"
   ]
  },
  {
   "cell_type": "code",
   "execution_count": 82,
   "metadata": {},
   "outputs": [
    {
     "data": {
      "text/plain": [
       "SEMIO_REL               -0.27864\n",
       "FINANZ_SPARER           -0.27242\n",
       "SEMIO_PFLICHT           -0.26332\n",
       "SEMIO_TRADV             -0.24920\n",
       "FINANZ_UNAUFFAELLIGER   -0.24714\n",
       "Name: 1, dtype: float64"
      ]
     },
     "execution_count": 82,
     "metadata": {},
     "output_type": "execute_result"
    }
   ],
   "source": [
    "weighted_pca(new_az, 1).sort_values().round(5).head()"
   ]
  },
  {
   "cell_type": "code",
   "execution_count": 83,
   "metadata": {},
   "outputs": [
    {
     "data": {
      "text/plain": [
       "SEMIO_FAM     0.22374\n",
       "SEMIO_KULT    0.26999\n",
       "SEMIO_SOZ     0.28731\n",
       "SEMIO_VERT    0.35700\n",
       "ANREDE_KZ     0.36050\n",
       "Name: 2, dtype: float64"
      ]
     },
     "execution_count": 83,
     "metadata": {},
     "output_type": "execute_result"
    }
   ],
   "source": [
    "# Map weights for the third principal component to corresponding feature names\n",
    "# and then print the linked values, sorted by weight.\n",
    "\n",
    "weighted_pca(new_az, 2).sort_values().round(5).tail()"
   ]
  },
  {
   "cell_type": "code",
   "execution_count": 84,
   "metadata": {},
   "outputs": [
    {
     "data": {
      "text/plain": [
       "SEMIO_KAEM       -0.35821\n",
       "SEMIO_DOM        -0.33259\n",
       "SEMIO_KRIT       -0.30633\n",
       "SEMIO_RAT        -0.19758\n",
       "FINANZ_ANLEGER   -0.18815\n",
       "Name: 2, dtype: float64"
      ]
     },
     "execution_count": 84,
     "metadata": {},
     "output_type": "execute_result"
    }
   ],
   "source": [
    "weighted_pca(new_az, 2).sort_values().round(5).head()"
   ]
  },
  {
   "cell_type": "markdown",
   "metadata": {},
   "source": [
    "### Discussion 2.3: Interpret Principal Components\n",
    "\n",
    "The 1st weighted set had the following:\n",
    "\n",
    "positive    \n",
    "EWDICHTE       0.20616 - Density of Households per square kilometer\n",
    " \n",
    "ORTSGR_KLS9    0.20832 - Size of Community\n",
    "\n",
    "PLZ8_BAUMAX    0.21900 - Common Building type within PLZ8 region\n",
    "\n",
    "PLZ8_ANTG4     0.22463 - Number of 10+ family houses in PLZ8 region\n",
    "\n",
    "PLZ8_ANTG3     0.23129 - Number of 6 - 10 family houses in PLZ8 region\n",
    "\n",
    "negative\n",
    "\n",
    "MOBI_REGIO          -0.23979 - Movement patterns\n",
    "\n",
    "PLZ8_ANTG1          -0.23027 - Number of 1-2 family houses in the PLZ8 region\n",
    "\n",
    "KBA05_ANTG1         -0.22206 - Number of 1-2 family houses in the microcell\n",
    "\n",
    "KBA05_GBZ           -0.21551 - Number of buildings in the microcell\n",
    "\n",
    "FINANZ_MINIMALIST   -0.18993 - MINIMALIST: low financial interest\n",
    "            \n",
    "The 2nd weighted set had the following:   \n",
    "\n",
    "positive\n",
    "\n",
    "RETOURTYP_BK_S          0.17286 - Return type\n",
    "\n",
    "SEMIO_LUST              0.19472 - sensual-minded\n",
    "\n",
    "SEMIO_ERL               0.25069 - event-oriented\n",
    "\n",
    "FINANZ_VORSORGER        0.26210 - be prepared\n",
    "\n",
    "ALTERSKATEGORIE_GROB    0.29229 - Estimated age based on given name analysis\n",
    "    \n",
    "negative\n",
    "\n",
    "SEMIO_REL               -0.28086 - religious\n",
    "\n",
    "FINANZ_SPARER           -0.27605 - money-saver\n",
    "\n",
    "SEMIO_PFLICHT           -0.26609 - dutiful\n",
    "\n",
    "SEMIO_TRADV             -0.25137 - tradional-minded\n",
    "\n",
    "FINANZ_UNAUFFAELLIGER   -0.24908 - Financial typology\n",
    "            \n",
    "The 3rd weighted set had the following:            \n",
    "\n",
    "positive\n",
    "\n",
    "SEMIO_FAM     0.22426 - family-minded\n",
    "\n",
    "SEMIO_KULT    0.27071 - cultural-minded\n",
    "\n",
    "SEMIO_SOZ     0.28739 - socially-minded\n",
    "\n",
    "SEMIO_VERT    0.35722 - dreamful\n",
    "\n",
    "ANREDE_KZ     0.36085 - Gender\n",
    "            \n",
    "negative\n",
    "\n",
    "SEMIO_KAEM       -0.35896 - combative attitude\n",
    "\n",
    "SEMIO_DOM        -0.33313 - dominant-minded\n",
    "\n",
    "SEMIO_KRIT       -0.30679 - critical-minded\n",
    "\n",
    "SEMIO_RAT        -0.19714 - rational\n",
    "\n",
    "FINANZ_ANLEGER   -0.18696 - investor\n",
    "            \n",
    "From the 1st instance, we notice that family play a major factor into the people on either side of the data. The positive side shows larger and wealthier families, whereas the negative shows those who are less financially motivated and are more mobile in other words less worried about family time.\n",
    "\n",
    "For the 2nd instance, on the positive end we see users that are event oriented and like to be prepared. On the negative end, we have users that are religious, traditional, and like to save what they have earned. \n",
    "\n",
    "In the 3rd instance, the positive end are family people who are social and like to build a community. On the negative end are those who like to prepare for worse case scenrios and seek a long term investment versus easy quick gains. "
   ]
  },
  {
   "cell_type": "markdown",
   "metadata": {},
   "source": [
    "## Step 3: Clustering\n",
    "\n",
    "### Step 3.1: Apply Clustering to General Population\n",
    "\n",
    "You've assessed and cleaned the demographics data, then scaled and transformed them. Now, it's time to see how the data clusters in the principal components space. In this substep, you will apply k-means clustering to the dataset and use the average within-cluster distances from each point to their assigned cluster's centroid to decide on a number of clusters to keep.\n",
    "\n",
    "- Use sklearn's [KMeans](http://scikit-learn.org/stable/modules/generated/sklearn.cluster.KMeans.html#sklearn.cluster.KMeans) class to perform k-means clustering on the PCA-transformed data.\n",
    "- Then, compute the average difference from each point to its assigned cluster's center. **Hint**: The KMeans object's `.score()` method might be useful here, but note that in sklearn, scores tend to be defined so that larger is better. Try applying it to a small, toy dataset, or use an internet search to help your understanding.\n",
    "- Perform the above two steps for a number of different cluster counts. You can then see how the average distance decreases with an increasing number of clusters. However, each additional cluster provides a smaller net benefit. Use this fact to select a final number of clusters in which to group the data. **Warning**: because of the large size of the dataset, it can take a long time for the algorithm to resolve. The more clusters to fit, the longer the algorithm will take. You should test for cluster counts through at least 10 clusters to get the full picture, but you shouldn't need to test for a number of clusters above about 30.\n",
    "- Once you've selected a final number of clusters to use, re-fit a KMeans instance to perform the clustering operation. Make sure that you also obtain the cluster assignments for the general demographics data, since you'll be using them in the final Step 3.3."
   ]
  },
  {
   "cell_type": "code",
   "execution_count": 85,
   "metadata": {},
   "outputs": [],
   "source": [
    "# Over a number of different cluster counts...\n",
    "i = 1\n",
    "amount = 20\n",
    "items = []\n",
    "    # run k-means clustering on the data and...\n",
    "\n",
    "while i != amount:\n",
    "    kmean = KMeans(n_clusters = i)\n",
    "    # compute the average within-cluster distances.\n",
    "    kmean.fit(az_pca45)\n",
    "    item = np.abs(kmean.score(az_pca45))\n",
    "    items.append(item)\n",
    "    i = i + 1"
   ]
  },
  {
   "cell_type": "code",
   "execution_count": 86,
   "metadata": {
    "scrolled": false
   },
   "outputs": [],
   "source": [
    "#items"
   ]
  },
  {
   "cell_type": "code",
   "execution_count": 87,
   "metadata": {},
   "outputs": [
    {
     "data": {
      "image/png": "[encoded data removed]",
      "text/plain": [
       "<matplotlib.figure.Figure at 0x79dba0573668>"
      ]
     },
     "metadata": {
      "needs_background": "light"
     },
     "output_type": "display_data"
    }
   ],
   "source": [
    "# Investigate the change in within-cluster distance across number of clusters.\n",
    "# HINT: Use matplotlib's plot function to visualize this relationship.\n",
    "\n",
    "plt.plot(items, 'x:g')\n",
    "plt.xlabel('Number of Clusters')\n",
    "plt.title('KMeans');"
   ]
  },
  {
   "cell_type": "code",
   "execution_count": 88,
   "metadata": {},
   "outputs": [],
   "source": [
    "# Re-fit the k-means model with the selected number of clusters and obtain\n",
    "# cluster predictions for the general population demographics data.\n",
    "\n",
    "kmean15 = KMeans(n_clusters = 15)\n",
    "kmean15az = kmean15.fit(az_pca45)\n",
    "general_prediction = kmean15az.predict(az_pca45)"
   ]
  },
  {
   "cell_type": "markdown",
   "metadata": {},
   "source": [
    "### Discussion 3.1: Apply Clustering to General Population\n",
    "\n",
    "After running the KMeans through 30 cluster possiblies (reduced to 20 for final to reduce time processing) once we hit after 15 around 16-17 the plot line flattens out. From this I went ahead and selected 15 as the amount I decided to use to segment the population.\n",
    "\n",
    "(Double-click this cell and replace this text with your own text, reporting your findings and decisions regarding clustering. Into how many clusters have you decided to segment the population?)"
   ]
  },
  {
   "cell_type": "markdown",
   "metadata": {},
   "source": [
    "### Step 3.2: Apply All Steps to the Customer Data\n",
    "\n",
    "Now that you have clusters and cluster centers for the general population, it's time to see how the customer data maps on to those clusters. Take care to not confuse this for re-fitting all of the models to the customer data. Instead, you're going to use the fits from the general population to clean, transform, and cluster the customer data. In the last step of the project, you will interpret how the general population fits apply to the customer data.\n",
    "\n",
    "- Don't forget when loading in the customers data, that it is semicolon (`;`) delimited.\n",
    "- Apply the same feature wrangling, selection, and engineering steps to the customer demographics using the `clean_data()` function you created earlier. (You can assume that the customer demographics data has similar meaning behind missing data patterns as the general demographics data.)\n",
    "- Use the sklearn objects from the general demographics data, and apply their transformations to the customers data. That is, you should not be using a `.fit()` or `.fit_transform()` method to re-fit the old objects, nor should you be creating new sklearn objects! Carry the data through the feature scaling, PCA, and clustering steps, obtaining cluster assignments for all of the data in the customer demographics data."
   ]
  },
  {
   "cell_type": "code",
   "execution_count": 89,
   "metadata": {},
   "outputs": [],
   "source": [
    "# Load in the customer demographics data.\n",
    "customers = pd.read_csv('Udacity_CUSTOMERS_Subset.csv', delimiter = ';')"
   ]
  },
  {
   "cell_type": "code",
   "execution_count": 90,
   "metadata": {
    "scrolled": false
   },
   "outputs": [],
   "source": [
    "#customers.head()"
   ]
  },
  {
   "cell_type": "code",
   "execution_count": null,
   "metadata": {},
   "outputs": [
    {
     "name": "stdout",
     "output_type": "stream",
     "text": [
      "Data Shape for dataset: (191652, 85)\n",
      "Data Shape for dataset after dropping Columns with over 15 missing values: (191652, 76)\n"
     ]
    },
    {
     "name": "stderr",
     "output_type": "stream",
     "text": [
      "/opt/conda/lib/python3.6/site-packages/ipykernel_launcher.py:34: UserWarning: Boolean Series key will be reindexed to match DataFrame index.\n",
      "/opt/conda/lib/python3.6/site-packages/ipykernel_launcher.py:35: UserWarning: Boolean Series key will be reindexed to match DataFrame index.\n"
     ]
    },
    {
     "name": "stdout",
     "output_type": "stream",
     "text": [
      "Data Shape for dataset after dropping Multiple Categories: (191652, 63)\n",
      "Data Shape for dataset: (191652, 64)\n"
     ]
    }
   ],
   "source": [
    "# Apply preprocessing, feature transformation, and clustering from the general\n",
    "# demographics onto the customer data, obtaining cluster predictions for the\n",
    "# customer demographics data.\n",
    "clean_data(customers)"
   ]
  },
  {
   "cell_type": "code",
   "execution_count": null,
   "metadata": {},
   "outputs": [],
   "source": [
    "amount_na = customers.isna().sum().sum()\n",
    "amount_na"
   ]
  },
  {
   "cell_type": "code",
   "execution_count": null,
   "metadata": {},
   "outputs": [],
   "source": [
    "imp_customer = imputer.transform(customers)"
   ]
  },
  {
   "cell_type": "code",
   "execution_count": null,
   "metadata": {},
   "outputs": [],
   "source": [
    "scaling_customer = scaled.transform(imp_customer)"
   ]
  },
  {
   "cell_type": "code",
   "execution_count": null,
   "metadata": {},
   "outputs": [],
   "source": [
    "pca_customer = pca45.transform(scaling_customer)"
   ]
  },
  {
   "cell_type": "code",
   "execution_count": null,
   "metadata": {},
   "outputs": [],
   "source": [
    "customer_prediction = kmean15.predict(pca_customer)"
   ]
  },
  {
   "cell_type": "markdown",
   "metadata": {},
   "source": [
    "### Step 3.3: Compare Customer Data to Demographics Data\n",
    "\n",
    "At this point, you have clustered data based on demographics of the general population of Germany, and seen how the customer data for a mail-order sales company maps onto those demographic clusters. In this final substep, you will compare the two cluster distributions to see where the strongest customer base for the company is.\n",
    "\n",
    "Consider the proportion of persons in each cluster for the general population, and the proportions for the customers. If we think the company's customer base to be universal, then the cluster assignment proportions should be fairly similar between the two. If there are only particular segments of the population that are interested in the company's products, then we should see a mismatch from one to the other. If there is a higher proportion of persons in a cluster for the customer data compared to the general population (e.g. 5% of persons are assigned to a cluster for the general population, but 15% of the customer data is closest to that cluster's centroid) then that suggests the people in that cluster to be a target audience for the company. On the other hand, the proportion of the data in a cluster being larger in the general population than the customer data (e.g. only 2% of customers closest to a population centroid that captures 6% of the data) suggests that group of persons to be outside of the target demographics.\n",
    "\n",
    "Take a look at the following points in this step:\n",
    "\n",
    "- Compute the proportion of data points in each cluster for the general population and the customer data. Visualizations will be useful here: both for the individual dataset proportions, but also to visualize the ratios in cluster representation between groups. Seaborn's [`countplot()`](https://seaborn.pydata.org/generated/seaborn.countplot.html) or [`barplot()`](https://seaborn.pydata.org/generated/seaborn.barplot.html) function could be handy.\n",
    "  - Recall the analysis you performed in step 1.1.3 of the project, where you separated out certain data points from the dataset if they had more than a specified threshold of missing values. If you found that this group was qualitatively different from the main bulk of the data, you should treat this as an additional data cluster in this analysis. Make sure that you account for the number of data points in this subset, for both the general population and customer datasets, when making your computations!\n",
    "- Which cluster or clusters are overrepresented in the customer dataset compared to the general population? Select at least one such cluster and infer what kind of people might be represented by that cluster. Use the principal component interpretations from step 2.3 or look at additional components to help you make this inference. Alternatively, you can use the `.inverse_transform()` method of the PCA and StandardScaler objects to transform centroids back to the original data space and interpret the retrieved values directly.\n",
    "- Perform a similar investigation for the underrepresented clusters. Which cluster or clusters are underrepresented in the customer dataset compared to the general population, and what kinds of people are typified by these clusters?"
   ]
  },
  {
   "cell_type": "code",
   "execution_count": null,
   "metadata": {},
   "outputs": [],
   "source": [
    "# Compare the proportion of data in each cluster for the customer data to the\n",
    "# proportion of data in each cluster for the general population.\n",
    "\n",
    "figure, axs1, axs2 = plt.subplots(1, 2, figsize = (18,75))\n",
    "                           \n",
    "sns.barplot(general_prediction, ax = axs1, palette = 'tab20b')\n",
    "sns.barplot(customer_prediction, ax = axs2, palette = 'tab20c')\n",
    "axs1.title('General Predictions')\n",
    "axs2.title('Customer Predictions')\n",
    "\n",
    "plt.tight_layout()"
   ]
  },
  {
   "cell_type": "code",
   "execution_count": null,
   "metadata": {},
   "outputs": [],
   "source": [
    "'''fig = plt.figure(figsize=(14,4))\n",
    "ax1 REMOVE PRIOR TO SENDING IN= fig.add_subplot(121)\n",
    "ax1.title.set_text('Customer Data')\n",
    "sns.countplot(predections_customers, palette = 'Set3')\n",
    "REMOVE PRIOR TO SENDING IN\n",
    "ax2 = fig.add_subplot(122)\n",
    "ax2.title.set_text('GeneraREMOVE PRIOR TO SENDING INl Demographic')\n",
    "sns.countplot(predections_azdias_data, palette = 'SeREMOVE PRIOR TO SENDING INt2')\n",
    "fig.tight_layout() REMOVE PRIOR TO SENDING INREMOVE PRIOR TO SENDING INREMOVE PRIOR TO SENDING INREMOVE PRIOR TO SENDING IN\n",
    "plt.show()'''"
   ]
  },
  {
   "cell_type": "code",
   "execution_count": null,
   "metadata": {},
   "outputs": [],
   "source": [
    "# What kinds of people are part of a cluster that is overrepresented in the\n",
    "# customer data compared to the general population?\n",
    "\n"
   ]
  },
  {
   "cell_type": "code",
   "execution_count": null,
   "metadata": {},
   "outputs": [],
   "source": [
    "# What kinds of people are part of a cluster that is underrepresented in the\n",
    "# customer data compared to the general population?\n",
    "\n"
   ]
  },
  {
   "cell_type": "markdown",
   "metadata": {},
   "source": [
    "### Discussion 3.3: Compare Customer Data to Demographics Data\n",
    "\n",
    "(Double-click this cell and replace this text with your own text, reporting findings and conclusions from the clustering analysis. Can we describe segments of the population that are relatively popular with the mail-order company, or relatively unpopular with the company?)"
   ]
  },
  {
   "cell_type": "markdown",
   "metadata": {},
   "source": [
    "> Congratulations on making it this far in the project! Before you finish, make sure to check through the entire notebook from top to bottom to make sure that your analysis follows a logical flow and all of your findings are documented in **Discussion** cells. Once you've checked over all of your work, you should export the notebook as an HTML document to submit for evaluation. You can do this from the menu, navigating to **File -> Download as -> HTML (.html)**. You will submit both that document and this notebook for your project submission."
   ]
  },
  {
   "cell_type": "code",
   "execution_count": null,
   "metadata": {},
   "outputs": [],
   "source": []
  }
 ],
 "metadata": {
  "kernelspec": {
   "display_name": "Python 3",
   "language": "python",
   "name": "python3"
  },
  "language_info": {
   "codemirror_mode": {
    "name": "ipython",
    "version": 3
   },
   "file_extension": ".py",
   "mimetype": "text/x-python",
   "name": "python",
   "nbconvert_exporter": "python",
   "pygments_lexer": "ipython3",
   "version": "3.6.3"
  }
 },
 "nbformat": 4,
 "nbformat_minor": 2
}
